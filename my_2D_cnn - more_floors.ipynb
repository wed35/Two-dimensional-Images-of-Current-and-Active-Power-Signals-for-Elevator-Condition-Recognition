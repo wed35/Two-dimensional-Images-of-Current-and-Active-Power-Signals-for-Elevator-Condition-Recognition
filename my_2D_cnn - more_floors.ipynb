{
 "cells": [
  {
   "cell_type": "code",
   "execution_count": 1,
   "metadata": {},
   "outputs": [
    {
     "name": "stderr",
     "output_type": "stream",
     "text": [
      "Using TensorFlow backend.\n"
     ]
    }
   ],
   "source": [
    "import numpy as np\n",
    "from numpy import array\n",
    "import random\n",
    "from random import randint\n",
    "import os\n",
    "import matplotlib.pyplot as plt\n",
    "import pandas as pd\n",
    "import keras\n",
    "from keras.models import Sequential\n",
    "from keras.layers import Dense, Conv2D, Flatten, Activation, MaxPooling2D, Dropout\n",
    "from keras.optimizers import SGD"
   ]
  },
  {
   "cell_type": "code",
   "execution_count": 2,
   "metadata": {},
   "outputs": [],
   "source": [
    "os.environ[\"CUDA_DEVICE_ORDER\"]=\"PCI_BUS_ID\"\n",
    "os.environ[\"CUDA_VISIBLE_DEVICES\"]=\"1\" #model will be trained on GPU 1"
   ]
  },
  {
   "cell_type": "code",
   "execution_count": 3,
   "metadata": {},
   "outputs": [],
   "source": [
    "                '''Parameters'''\n",
    "### Parameters\n",
    "num_data = 1067\n",
    "  \n",
    "### Model Hyperparameters\n",
    "w = 2000                 # History window (number of time stamps taken into account) \n",
    "                         # i.e., filter(kernel) size       \n",
    "p_w = 300                # Prediction window (number of time stampes required to be \n",
    "                         # predicted)\n",
    "num_features = 1           # grayscale image\n",
    "num_category = 14\n",
    "category_dict = {0 : '3-1F', 1:  '3-4F', 2 :  '3-6F', 3 : '3-7F', 4: '3-8F', 5 : '3-9F', 6 : '3-10F', 7: '3-11F',8 : '3-12F', 9: '3-13F', 10 : '3-14F', 11 : '3-15F', 12: '3-16F', 13 : '3-17F' }\n",
    "\n",
    "kernel_size = 3          # Size of filter in conv layers\n",
    "num_neuron_1 = 32        # Number of filters in first conv layer\n",
    "num_neuron_2 = 32        # Number of filters in second conv layer\n",
    "num_neuron_dl = 40       # Number of neurons in dense layer\n",
    "\n",
    "conv_strides = 1\n",
    "pool_size_1 = 2          # Length of window of pooling layer 1\n",
    "pool_size_2 = 2          # Length of window of pooling layer 2\n",
    "pool_strides_1 = 2       # Stride of window of pooling layer 1\n",
    "pool_strides_2 = 2       # Stride of window of pooling layer 2\n",
    "\n",
    "num_epoch = 50\n",
    "learning_rate = 2e-5  "
   ]
  },
  {
   "cell_type": "code",
   "execution_count": 4,
   "metadata": {},
   "outputs": [],
   "source": [
    "                \"\"\"Data loading\"\"\"\n",
    "import requests\n",
    "import shutil\n",
    "\n",
    "data_value_dict = {}\n",
    "data_label_dict = {}\n",
    "max_length = 0\n",
    "df_temp = pd.read_csv(r'C:\\Users\\A\\Desktop\\Classification\\label.csv')\n",
    "\n",
    "\n",
    "for i in range(0, num_data):\n",
    "  \n",
    "  \n",
    "  \n",
    "  im_array = np.load(r'C:\\Users\\A\\Desktop\\Classification\\my_data\\png/'+str(i)+'.npy', allow_pickle=True)\n",
    "  data_value_dict[i] = im_array\n",
    "  data_label_dict[i] = df_temp['Label'][i]\n",
    "#print(data_label_dict)\n",
    "  "
   ]
  },
  {
   "cell_type": "code",
   "execution_count": 5,
   "metadata": {},
   "outputs": [
    {
     "name": "stdout",
     "output_type": "stream",
     "text": [
      "(1065, 480, 640) (1065,) (1, 480, 640) (1,)\n",
      "X_train_reshaped shape: (1065, 480, 640, 1)\n",
      "X_test_reshaped shape: (1, 480, 640, 1)\n"
     ]
    }
   ],
   "source": [
    "# split into test and training set and convert data into array\n",
    "test_ix = randint(1,num_data + 1)\n",
    "X_test, y_test, X_train, y_train = list(), list(), list(), list()\n",
    "for i in range(1, num_data) :\n",
    "  if(i != test_ix):\n",
    "    X_train.append(data_value_dict[i])\n",
    "    y_train.append(data_label_dict[i])\n",
    "  else :\n",
    "    X_test.append(data_value_dict[i])\n",
    "    y_test.append(data_label_dict[i])\n",
    "X_train = array(X_train)\n",
    "y_train = array(y_train)\n",
    "X_test = array(X_test)\n",
    "y_test = array(y_test)\n",
    "print(X_train.shape, y_train.shape, X_test.shape, y_test.shape)\n",
    "X_train_reshaped = X_train.reshape(X_train.shape[0], X_train.shape[1], X_train.shape[2], num_features)\n",
    "X_test_reshaped = X_test.reshape(X_test.shape[0], X_test.shape[1], X_test.shape[2], num_features)\n",
    "\n",
    "# reformat array\n",
    "X_train_reshaped = X_train_reshaped.astype('float32')\n",
    "X_test_reshaped = X_test_reshaped.astype('float32')\n",
    "X_train_reshaped /= 255\n",
    "X_test_reshaped /= 255\n",
    "print('X_train_reshaped shape:', X_train_reshaped.shape) #X_train shape: (60000, 28, 28, 1)\n",
    "print('X_test_reshaped shape:', X_test_reshaped.shape) #X_test shape: (60000, 28, 28, 1)\n",
    "\n",
    "# convert class vectors to binary class matrices\n",
    "y_train = keras.utils.to_categorical(y_train, num_category)\n",
    "y_test = keras.utils.to_categorical(y_test, num_category)"
   ]
  },
  {
   "cell_type": "code",
   "execution_count": 6,
   "metadata": {},
   "outputs": [
    {
     "name": "stdout",
     "output_type": "stream",
     "text": [
      "Model: \"sequential_1\"\n",
      "_________________________________________________________________\n",
      "Layer (type)                 Output Shape              Param #   \n",
      "=================================================================\n",
      "conv2d_1 (Conv2D)            (None, 478, 638, 24)      240       \n",
      "_________________________________________________________________\n",
      "conv2d_2 (Conv2D)            (None, 476, 636, 24)      5208      \n",
      "_________________________________________________________________\n",
      "max_pooling2d_1 (MaxPooling2 (None, 238, 318, 24)      0         \n",
      "_________________________________________________________________\n",
      "flatten_1 (Flatten)          (None, 1816416)           0         \n",
      "_________________________________________________________________\n",
      "dense_1 (Dense)              (None, 30)                54492510  \n",
      "_________________________________________________________________\n",
      "dropout_1 (Dropout)          (None, 30)                0         \n",
      "_________________________________________________________________\n",
      "dense_2 (Dense)              (None, 14)                434       \n",
      "=================================================================\n",
      "Total params: 54,498,392\n",
      "Trainable params: 54,498,392\n",
      "Non-trainable params: 0\n",
      "_________________________________________________________________\n"
     ]
    }
   ],
   "source": [
    "                 '''Model building'''\n",
    "model = Sequential()\n",
    "model.add(Conv2D(24, kernel_size=(3, 3),\n",
    "                 activation='relu',\n",
    "                 input_shape=(X_train.shape[1], X_train.shape[2], num_features)))\n",
    "model.add(Conv2D(24, (3, 3), activation='relu'))\n",
    "model.add(MaxPooling2D(pool_size=(2, 2)))\n",
    "# model.add(Dropout(0.25))\n",
    "model.add(Flatten())\n",
    "model.add(Dense(30, activation='relu'))\n",
    "model.add(Dropout(0.5))\n",
    "model.add(Dense(num_category, activation='softmax'))\n",
    "model.summary()"
   ]
  },
  {
   "cell_type": "code",
   "execution_count": 7,
   "metadata": {},
   "outputs": [],
   "source": [
    "                 '''configure model'''\n",
    "model.compile(optimizer='adam', \n",
    "              loss=keras.losses.categorical_crossentropy,\n",
    "              metrics=[\"accuracy\"])\n",
    "\n",
    "# sgd = keras.optimizers.SGD(lr=learning_rate, \n",
    "#                          decay=1e-6, \n",
    "#                          momentum=0.9, \n",
    "#                          nesterov=True)\n",
    "# model.compile(optimizer='sgd', \n",
    "#               loss='mean_absolute_error', \n",
    "#               metrics=['accuracy'])"
   ]
  },
  {
   "cell_type": "code",
   "execution_count": 8,
   "metadata": {},
   "outputs": [
    {
     "name": "stdout",
     "output_type": "stream",
     "text": [
      "Train on 1065 samples, validate on 1 samples\n",
      "Epoch 1/50\n",
      "1065/1065 [==============================] - 222s 209ms/step - loss: 6.2897 - accuracy: 0.1099 - val_loss: 0.8966 - val_accuracy: 1.0000\n",
      "Epoch 2/50\n",
      "1065/1065 [==============================] - 221s 208ms/step - loss: 1.2817 - accuracy: 0.5681 - val_loss: 0.0281 - val_accuracy: 1.0000\n",
      "Epoch 3/50\n",
      "1065/1065 [==============================] - 220s 207ms/step - loss: 0.7639 - accuracy: 0.7221 - val_loss: 0.0073 - val_accuracy: 1.0000\n",
      "Epoch 4/50\n",
      "1065/1065 [==============================] - 221s 207ms/step - loss: 0.5740 - accuracy: 0.7869 - val_loss: 2.0347e-04 - val_accuracy: 1.0000\n",
      "Epoch 5/50\n",
      "1065/1065 [==============================] - 219s 206ms/step - loss: 0.4493 - accuracy: 0.8319 - val_loss: 1.5020e-05 - val_accuracy: 1.0000\n",
      "Epoch 6/50\n",
      "1065/1065 [==============================] - 220s 206ms/step - loss: 0.4029 - accuracy: 0.8507 - val_loss: 2.0266e-06 - val_accuracy: 1.0000\n",
      "Epoch 7/50\n",
      "1065/1065 [==============================] - 219s 206ms/step - loss: 0.3742 - accuracy: 0.8667 - val_loss: 0.0000e+00 - val_accuracy: 1.0000\n",
      "Epoch 8/50\n",
      "1065/1065 [==============================] - 220s 206ms/step - loss: 0.3547 - accuracy: 0.8601 - val_loss: 0.0000e+00 - val_accuracy: 1.0000\n",
      "Epoch 9/50\n",
      "1065/1065 [==============================] - 219s 206ms/step - loss: 0.3327 - accuracy: 0.8808 - val_loss: 0.0000e+00 - val_accuracy: 1.0000\n",
      "Epoch 10/50\n",
      "1065/1065 [==============================] - 220s 207ms/step - loss: 0.3102 - accuracy: 0.8817 - val_loss: 0.0000e+00 - val_accuracy: 1.0000\n",
      "Epoch 11/50\n",
      "1065/1065 [==============================] - 219s 206ms/step - loss: 0.3315 - accuracy: 0.8826 - val_loss: 0.0000e+00 - val_accuracy: 1.0000\n",
      "Epoch 12/50\n",
      "1065/1065 [==============================] - 219s 206ms/step - loss: 0.3052 - accuracy: 0.8836 - val_loss: 0.0000e+00 - val_accuracy: 1.0000\n",
      "Epoch 13/50\n",
      "1065/1065 [==============================] - 219s 206ms/step - loss: 0.2893 - accuracy: 0.8845 - val_loss: 0.0000e+00 - val_accuracy: 1.0000\n",
      "Epoch 14/50\n",
      "1065/1065 [==============================] - 219s 206ms/step - loss: 0.2497 - accuracy: 0.8958 - val_loss: 0.0000e+00 - val_accuracy: 1.0000\n",
      "Epoch 15/50\n",
      "1065/1065 [==============================] - 219s 205ms/step - loss: 0.2688 - accuracy: 0.9052 - val_loss: 0.0000e+00 - val_accuracy: 1.0000\n",
      "Epoch 16/50\n",
      "1065/1065 [==============================] - 220s 207ms/step - loss: 0.2562 - accuracy: 0.8986 - val_loss: 0.0000e+00 - val_accuracy: 1.0000\n",
      "Epoch 17/50\n",
      "1065/1065 [==============================] - 219s 205ms/step - loss: 0.2863 - accuracy: 0.8864 - val_loss: 0.0000e+00 - val_accuracy: 1.0000\n",
      "Epoch 18/50\n",
      "1065/1065 [==============================] - 219s 206ms/step - loss: 0.2949 - accuracy: 0.8854 - val_loss: 0.0000e+00 - val_accuracy: 1.0000\n",
      "Epoch 19/50\n",
      "1065/1065 [==============================] - 218s 205ms/step - loss: 0.2505 - accuracy: 0.8939 - val_loss: 0.0000e+00 - val_accuracy: 1.0000\n",
      "Epoch 20/50\n",
      "1065/1065 [==============================] - 219s 205ms/step - loss: 0.2467 - accuracy: 0.8939 - val_loss: 0.0000e+00 - val_accuracy: 1.0000\n",
      "Epoch 21/50\n",
      "1065/1065 [==============================] - 220s 206ms/step - loss: 0.2021 - accuracy: 0.9183 - val_loss: 0.0000e+00 - val_accuracy: 1.0000\n",
      "Epoch 22/50\n",
      "1065/1065 [==============================] - 220s 206ms/step - loss: 0.2237 - accuracy: 0.9183 - val_loss: 0.0000e+00 - val_accuracy: 1.0000\n",
      "Epoch 23/50\n",
      "1065/1065 [==============================] - 219s 206ms/step - loss: 0.2176 - accuracy: 0.9127 - val_loss: 0.0000e+00 - val_accuracy: 1.0000\n",
      "Epoch 24/50\n",
      "1065/1065 [==============================] - 219s 206ms/step - loss: 0.2087 - accuracy: 0.9164 - val_loss: 0.0000e+00 - val_accuracy: 1.0000\n",
      "Epoch 25/50\n",
      "1065/1065 [==============================] - 219s 206ms/step - loss: 0.2286 - accuracy: 0.9080 - val_loss: 0.0000e+00 - val_accuracy: 1.0000\n",
      "Epoch 26/50\n",
      "1065/1065 [==============================] - 219s 205ms/step - loss: 0.2096 - accuracy: 0.9155 - val_loss: 0.0000e+00 - val_accuracy: 1.0000\n",
      "Epoch 27/50\n",
      "1065/1065 [==============================] - 219s 206ms/step - loss: 0.2004 - accuracy: 0.9221 - val_loss: 0.0000e+00 - val_accuracy: 1.0000\n",
      "Epoch 28/50\n",
      "1065/1065 [==============================] - 219s 206ms/step - loss: 0.2167 - accuracy: 0.9146 - val_loss: 0.0000e+00 - val_accuracy: 1.0000\n",
      "Epoch 29/50\n",
      "1065/1065 [==============================] - 219s 206ms/step - loss: 0.1802 - accuracy: 0.9333 - val_loss: 0.0000e+00 - val_accuracy: 1.0000\n",
      "Epoch 30/50\n",
      "1065/1065 [==============================] - 218s 205ms/step - loss: 0.1986 - accuracy: 0.9174 - val_loss: 0.0000e+00 - val_accuracy: 1.0000\n",
      "Epoch 31/50\n",
      "1065/1065 [==============================] - 219s 206ms/step - loss: 0.2192 - accuracy: 0.9099 - val_loss: 0.0000e+00 - val_accuracy: 1.0000\n",
      "Epoch 32/50\n",
      "1065/1065 [==============================] - 219s 205ms/step - loss: 0.1912 - accuracy: 0.9230 - val_loss: 0.0000e+00 - val_accuracy: 1.0000\n",
      "Epoch 33/50\n",
      "1065/1065 [==============================] - 219s 205ms/step - loss: 0.1987 - accuracy: 0.9315 - val_loss: 0.0000e+00 - val_accuracy: 1.0000\n",
      "Epoch 34/50\n",
      "1065/1065 [==============================] - 219s 205ms/step - loss: 0.1912 - accuracy: 0.9221 - val_loss: 0.0000e+00 - val_accuracy: 1.0000\n",
      "Epoch 35/50\n",
      "1065/1065 [==============================] - 219s 205ms/step - loss: 0.2098 - accuracy: 0.9211 - val_loss: 0.0000e+00 - val_accuracy: 1.0000\n",
      "Epoch 36/50\n",
      "1065/1065 [==============================] - 220s 206ms/step - loss: 0.1843 - accuracy: 0.9239 - val_loss: 0.0000e+00 - val_accuracy: 1.0000\n",
      "Epoch 37/50\n",
      "1065/1065 [==============================] - 220s 207ms/step - loss: 0.1838 - accuracy: 0.9239 - val_loss: 0.0000e+00 - val_accuracy: 1.0000\n",
      "Epoch 38/50\n",
      "1065/1065 [==============================] - 219s 205ms/step - loss: 0.1893 - accuracy: 0.9286 - val_loss: 0.0000e+00 - val_accuracy: 1.0000\n",
      "Epoch 39/50\n",
      "1065/1065 [==============================] - 219s 206ms/step - loss: 0.1767 - accuracy: 0.9277 - val_loss: 0.0000e+00 - val_accuracy: 1.0000\n",
      "Epoch 40/50\n",
      "1065/1065 [==============================] - 219s 205ms/step - loss: 0.1849 - accuracy: 0.9315 - val_loss: 0.0000e+00 - val_accuracy: 1.0000\n",
      "Epoch 41/50\n",
      "1065/1065 [==============================] - 219s 206ms/step - loss: 0.1591 - accuracy: 0.9343 - val_loss: 0.0000e+00 - val_accuracy: 1.0000\n",
      "Epoch 42/50\n",
      "1065/1065 [==============================] - 219s 206ms/step - loss: 0.2025 - accuracy: 0.9192 - val_loss: 0.0000e+00 - val_accuracy: 1.0000\n",
      "Epoch 43/50\n",
      "1065/1065 [==============================] - 219s 205ms/step - loss: 0.1906 - accuracy: 0.9258 - val_loss: 0.0000e+00 - val_accuracy: 1.0000\n",
      "Epoch 44/50\n",
      "1065/1065 [==============================] - 219s 206ms/step - loss: 0.1745 - accuracy: 0.9286 - val_loss: 0.0000e+00 - val_accuracy: 1.0000\n",
      "Epoch 45/50\n",
      "1065/1065 [==============================] - 222s 208ms/step - loss: 0.1753 - accuracy: 0.9352 - val_loss: 0.0000e+00 - val_accuracy: 1.0000\n",
      "Epoch 46/50\n",
      "1065/1065 [==============================] - 222s 209ms/step - loss: 0.1995 - accuracy: 0.9202 - val_loss: 0.0000e+00 - val_accuracy: 1.0000\n",
      "Epoch 47/50\n",
      "1065/1065 [==============================] - 222s 208ms/step - loss: 0.1835 - accuracy: 0.9239 - val_loss: 0.0000e+00 - val_accuracy: 1.0000\n",
      "Epoch 48/50\n",
      "1065/1065 [==============================] - 222s 208ms/step - loss: 0.1675 - accuracy: 0.9390 - val_loss: 0.0000e+00 - val_accuracy: 1.0000\n",
      "Epoch 49/50\n",
      "1065/1065 [==============================] - 222s 208ms/step - loss: 0.1805 - accuracy: 0.9249 - val_loss: 0.0000e+00 - val_accuracy: 1.0000\n",
      "Epoch 50/50\n",
      "1065/1065 [==============================] - 224s 210ms/step - loss: 0.1768 - accuracy: 0.9258 - val_loss: 0.0000e+00 - val_accuracy: 1.0000\n"
     ]
    }
   ],
   "source": [
    "                    '''Training'''\n",
    "model_log = model.fit(X_train_reshaped, y_train,\n",
    "                      batch_size=64,\n",
    "                      epochs=num_epoch,\n",
    "                      verbose=1,\n",
    "                      validation_data=(X_test_reshaped, y_test))"
   ]
  },
  {
   "cell_type": "code",
   "execution_count": 9,
   "metadata": {},
   "outputs": [
    {
     "name": "stdout",
     "output_type": "stream",
     "text": [
      "Test loss:  0.0\n",
      "Test accuracy:  1.0\n"
     ]
    }
   ],
   "source": [
    "score = model.evaluate(X_test_reshaped,y_test,verbose=0)\n",
    "print('Test loss: ',score[0])\n",
    "print('Test accuracy: ',score[1])"
   ]
  },
  {
   "cell_type": "code",
   "execution_count": 10,
   "metadata": {},
   "outputs": [
    {
     "data": {
      "image/png": "[encoded data removed]",
      "text/plain": [
       "<Figure size 432x288 with 1 Axes>"
      ]
     },
     "metadata": {
      "needs_background": "light"
     },
     "output_type": "display_data"
    },
    {
     "data": {
      "image/png": "[encoded data removed]",
      "text/plain": [
       "<Figure size 432x288 with 1 Axes>"
      ]
     },
     "metadata": {
      "needs_background": "light"
     },
     "output_type": "display_data"
    }
   ],
   "source": [
    "# Plot training & validation accuracy values\n",
    "plt.plot(model_log.history['accuracy'])\n",
    "plt.plot(model_log.history['val_accuracy'])\n",
    "plt.title('Model accuracy')\n",
    "plt.ylabel('Accuracy')\n",
    "plt.xlabel('Epoch')\n",
    "plt.legend(['Train', 'Test'], loc='upper left')\n",
    "plt.show()\n",
    "\n",
    "# Plot training & validation loss values\n",
    "plt.plot(model_log.history['loss'])\n",
    "plt.plot(model_log.history['val_loss'])\n",
    "plt.title('Model loss')\n",
    "plt.ylabel('Loss')\n",
    "plt.xlabel('Epoch')\n",
    "plt.legend(['Train', 'Test'], loc='upper left')\n",
    "plt.show()"
   ]
  },
  {
   "cell_type": "code",
   "execution_count": 11,
   "metadata": {},
   "outputs": [],
   "source": [
    "               \"\"\"Save Weights (DeepAnT)\"\"\"\n",
    "# save it to disk so we can load it back up anytime\n",
    "model.save_weights('elevator_2D_CNN_1.h5') "
   ]
  },
  {
   "cell_type": "code",
   "execution_count": null,
   "metadata": {},
   "outputs": [],
   "source": []
  },
  {
   "cell_type": "code",
   "execution_count": 38,
   "metadata": {},
   "outputs": [
    {
     "name": "stdout",
     "output_type": "stream",
     "text": [
      "1/1 [==============================] - 0s 62ms/step\n",
      "[[0. 0. 0. 0. 0. 0. 0. 0. 0. 0. 0. 0. 1. 0.]]\n",
      "[0. 0. 0. 0. 0. 0. 0. 0. 0. 0. 0. 0. 1. 0.]\n"
     ]
    },
    {
     "data": {
      "image/png": "[encoded data removed]",
      "text/plain": [
       "<Figure size 432x288 with 1 Axes>"
      ]
     },
     "metadata": {
      "needs_background": "light"
     },
     "output_type": "display_data"
    }
   ],
   "source": [
    "            \"\"\"Classifying test sequence\"\"\" \n",
    "# Build model \n",
    "model = Sequential()\n",
    "model.add(Conv2D(24, kernel_size=(3, 3),\n",
    "                 activation='relu',\n",
    "                 input_shape=(X_train.shape[1], X_train.shape[2], num_features)))\n",
    "model.add(Conv2D(24, (3, 3), activation='relu'))\n",
    "model.add(MaxPooling2D(pool_size=(2, 2)))\n",
    "# model.add(Dropout(0.25))\n",
    "model.add(Flatten())\n",
    "model.add(Dense(30, activation='relu'))\n",
    "model.add(Dropout(0.5))\n",
    "model.add(Dense(num_category, activation='softmax'))\n",
    "\n",
    "# Load the model's saved weights.\n",
    "model.load_weights('elevator_2D_CNN_1.h5')\n",
    "\n",
    "# Predict the next time stampes of the sampled sequence\n",
    "ix = 1001\n",
    "sample = array(data_value_dict[ix])\n",
    "plt.imshow(sample, cmap='gray', vmin=0, vmax=255)\n",
    "plt.show\n",
    "sample = sample.reshape(1, sample.shape[0], sample.shape[1], num_features)\n",
    "\n",
    "yhat = model.predict(sample, verbose=1)\n",
    "\n",
    "# Print our model's predictions.\n",
    "print(yhat)\n",
    "\n",
    "# Check our predictions against the ground truths.\n",
    "print(keras.utils.to_categorical(data_label_dict[ix], num_category)) # [7, 2, 1, 0, 4]"
   ]
  },
  {
   "cell_type": "code",
   "execution_count": null,
   "metadata": {},
   "outputs": [],
   "source": []
  },
  {
   "cell_type": "code",
   "execution_count": null,
   "metadata": {},
   "outputs": [],
   "source": []
  }
 ],
 "metadata": {
  "kernelspec": {
   "display_name": "Python 3",
   "language": "python",
   "name": "python3"
  },
  "language_info": {
   "codemirror_mode": {
    "name": "ipython",
    "version": 3
   },
   "file_extension": ".py",
   "mimetype": "text/x-python",
   "name": "python",
   "nbconvert_exporter": "python",
   "pygments_lexer": "ipython3",
   "version": "3.7.0"
  }
 },
 "nbformat": 4,
 "nbformat_minor": 2
}
