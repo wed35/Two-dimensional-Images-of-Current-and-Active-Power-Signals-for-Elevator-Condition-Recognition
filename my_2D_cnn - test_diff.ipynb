{
 "cells": [
  {
   "cell_type": "code",
   "execution_count": 2,
   "metadata": {},
   "outputs": [
    {
     "name": "stderr",
     "output_type": "stream",
     "text": [
      "Using TensorFlow backend.\n"
     ]
    }
   ],
   "source": [
    "import numpy as np\n",
    "from numpy import array\n",
    "import random\n",
    "from random import randint\n",
    "import os\n",
    "import matplotlib.pyplot as plt\n",
    "import pandas as pd\n",
    "import keras\n",
    "from keras.models import Sequential\n",
    "from keras.layers import Dense, Conv2D, Flatten, Activation, MaxPooling2D, Dropout\n",
    "from keras.optimizers import SGD"
   ]
  },
  {
   "cell_type": "code",
   "execution_count": 3,
   "metadata": {},
   "outputs": [],
   "source": [
    "os.environ[\"CUDA_DEVICE_ORDER\"]=\"PCI_BUS_ID\"\n",
    "os.environ[\"CUDA_VISIBLE_DEVICES\"]=\"1\" #model will be trained on GPU 1"
   ]
  },
  {
   "cell_type": "code",
   "execution_count": 4,
   "metadata": {},
   "outputs": [],
   "source": [
    "                '''Parameters'''\n",
    "### Parameters\n",
    "num_data = 667\n",
    "  \n",
    "### Model Hyperparameters\n",
    "w = 2000                 # History window (number of time stamps taken into account) \n",
    "                         # i.e., filter(kernel) size       \n",
    "p_w = 300                # Prediction window (number of time stampes required to be \n",
    "                         # predicted)\n",
    "num_features = 1           # grayscale image\n",
    "num_category = 6\n",
    "category_dict = {0 : 'UP_1-2F', 1: 'UP_3-4F', 2 : 'UP_5-7F', 3 : 'DOWN_1-2F', 4: 'DOWN_3-4F', 5 : 'DOWN_5-7F'}\n",
    "\n",
    "kernel_size = 3          # Size of filter in conv layers\n",
    "num_neuron_1 = 32        # Number of filters in first conv layer\n",
    "num_neuron_2 = 32        # Number of filters in second conv layer\n",
    "num_neuron_dl = 40       # Number of neurons in dense layer\n",
    "\n",
    "conv_strides = 1\n",
    "pool_size_1 = 2          # Length of window of pooling layer 1\n",
    "pool_size_2 = 2          # Length of window of pooling layer 2\n",
    "pool_strides_1 = 2       # Stride of window of pooling layer 1\n",
    "pool_strides_2 = 2       # Stride of window of pooling layer 2\n",
    "\n",
    "num_epoch = 50\n",
    "learning_rate = 2e-5  "
   ]
  },
  {
   "cell_type": "code",
   "execution_count": 5,
   "metadata": {},
   "outputs": [],
   "source": [
    "                \"\"\"Data loading\"\"\"\n",
    "import requests\n",
    "import shutil\n",
    "\n",
    "data_value_dict = {}\n",
    "data_label_dict = {}\n",
    "max_length = 0\n",
    "df_temp = pd.read_csv(r'C:\\Users\\A\\Desktop\\Classification\\label.csv')\n",
    "\n",
    "\n",
    "for i in range(0, num_data):\n",
    "  \n",
    "  \n",
    "  \n",
    "  im_array = np.load(r'C:\\Users\\A\\Desktop\\Classification\\my_data\\png/'+str(i)+'.npy', allow_pickle=True)\n",
    "  data_value_dict[i] = im_array\n",
    "  data_label_dict[i] = df_temp['Label'][i]\n",
    "#print(data_label_dict)\n",
    "  "
   ]
  },
  {
   "cell_type": "code",
   "execution_count": 6,
   "metadata": {},
   "outputs": [],
   "source": [
    "                \"\"\"Data preprocessing\"\"\"\n",
    "# Map raw labels to each category\n",
    "def is_up(label):\n",
    "    return (label / 100 >= 1)\n",
    "def is_0_2F(label):\n",
    "    if (is_up(label)) :\n",
    "      label = label - 100\n",
    "    return (label / 10 < 3)\n",
    "def is_3_4F(label):\n",
    "    if (is_up(label)) :\n",
    "      label = label - 100\n",
    "    return (3 <= label / 10 < 5)\n",
    "\n",
    "for i in range(0, num_data):\n",
    "    label = data_label_dict[i]\n",
    "    if is_up(label) :\n",
    "        if is_0_2F(label) : data_label_dict[i] = 0\n",
    "        elif is_3_4F(label) : data_label_dict[i] = 1\n",
    "        else : data_label_dict[i] = 2\n",
    "    else :\n",
    "        if is_0_2F(label) : data_label_dict[i] = 3\n",
    "        elif is_3_4F(label) : data_label_dict[i] = 4\n",
    "        else : data_label_dict[i] = 5"
   ]
  },
  {
   "cell_type": "code",
   "execution_count": 7,
   "metadata": {},
   "outputs": [
    {
     "name": "stdout",
     "output_type": "stream",
     "text": [
      "(642, 400, 600) (642,) (24, 400, 600) (24,)\n",
      "X_train_reshaped shape: (642, 400, 600, 1)\n",
      "X_test_reshaped shape: (24, 400, 600, 1)\n"
     ]
    }
   ],
   "source": [
    "# split into test and training set and convert data into array\n",
    "test_ix = randint(21,num_data + 1)\n",
    "X_test, y_test, X_train, y_train = list(), list(), list(), list()\n",
    "for i in range(1, num_data) :\n",
    "  if(test_ix - 20 < i < test_ix + 20):\n",
    "    X_test.append(data_value_dict[i])\n",
    "    y_test.append(data_label_dict[i])\n",
    "    test_ix = randint(test_ix,num_data + 1)\n",
    "  else :\n",
    "    X_train.append(data_value_dict[i])\n",
    "    y_train.append(data_label_dict[i])\n",
    "X_train = array(X_train)\n",
    "y_train = array(y_train)\n",
    "X_test = array(X_test)\n",
    "y_test = array(y_test)\n",
    "print(X_train.shape, y_train.shape, X_test.shape, y_test.shape)\n",
    "X_train_reshaped = X_train.reshape(X_train.shape[0], X_train.shape[1], X_train.shape[2], num_features)\n",
    "X_test_reshaped = X_test.reshape(X_test.shape[0], X_test.shape[1], X_test.shape[2], num_features)\n",
    "\n",
    "# reformat array\n",
    "X_train_reshaped = X_train_reshaped.astype('float32')\n",
    "X_test_reshaped = X_test_reshaped.astype('float32')\n",
    "X_train_reshaped /= 255\n",
    "X_test_reshaped /= 255\n",
    "print('X_train_reshaped shape:', X_train_reshaped.shape) #X_train shape: (60000, 28, 28, 1)\n",
    "print('X_test_reshaped shape:', X_test_reshaped.shape) #X_test shape: (60000, 28, 28, 1)\n",
    "\n",
    "# convert class vectors to binary class matrices\n",
    "y_train = keras.utils.to_categorical(y_train, num_category)\n",
    "y_test = keras.utils.to_categorical(y_test, num_category)"
   ]
  },
  {
   "cell_type": "code",
   "execution_count": 8,
   "metadata": {},
   "outputs": [
    {
     "name": "stdout",
     "output_type": "stream",
     "text": [
      "Model: \"sequential_1\"\n",
      "_________________________________________________________________\n",
      "Layer (type)                 Output Shape              Param #   \n",
      "=================================================================\n",
      "conv2d_1 (Conv2D)            (None, 398, 598, 24)      240       \n",
      "_________________________________________________________________\n",
      "conv2d_2 (Conv2D)            (None, 396, 596, 24)      5208      \n",
      "_________________________________________________________________\n",
      "max_pooling2d_1 (MaxPooling2 (None, 198, 298, 24)      0         \n",
      "_________________________________________________________________\n",
      "flatten_1 (Flatten)          (None, 1416096)           0         \n",
      "_________________________________________________________________\n",
      "dense_1 (Dense)              (None, 30)                42482910  \n",
      "_________________________________________________________________\n",
      "dropout_1 (Dropout)          (None, 30)                0         \n",
      "_________________________________________________________________\n",
      "dense_2 (Dense)              (None, 6)                 186       \n",
      "=================================================================\n",
      "Total params: 42,488,544\n",
      "Trainable params: 42,488,544\n",
      "Non-trainable params: 0\n",
      "_________________________________________________________________\n"
     ]
    }
   ],
   "source": [
    "                 '''Model building'''\n",
    "model = Sequential()\n",
    "model.add(Conv2D(24, kernel_size=(3, 3),\n",
    "                 activation='relu',\n",
    "                 input_shape=(X_train.shape[1], X_train.shape[2], num_features)))\n",
    "model.add(Conv2D(24, (3, 3), activation='relu'))\n",
    "model.add(MaxPooling2D(pool_size=(2, 2)))\n",
    "# model.add(Dropout(0.25))\n",
    "model.add(Flatten())\n",
    "model.add(Dense(30, activation='relu'))\n",
    "model.add(Dropout(0.5))\n",
    "model.add(Dense(num_category, activation='softmax'))\n",
    "model.summary()"
   ]
  },
  {
   "cell_type": "code",
   "execution_count": 9,
   "metadata": {},
   "outputs": [],
   "source": [
    "                 '''configure model'''\n",
    "model.compile(optimizer='adam', \n",
    "              loss=keras.losses.categorical_crossentropy,\n",
    "              metrics=[\"accuracy\"])\n",
    "\n",
    "# sgd = keras.optimizers.SGD(lr=learning_rate, \n",
    "#                          decay=1e-6, \n",
    "#                          momentum=0.9, \n",
    "#                          nesterov=True)\n",
    "# model.compile(optimizer='sgd', \n",
    "#               loss='mean_absolute_error', \n",
    "#               metrics=['accuracy'])"
   ]
  },
  {
   "cell_type": "code",
   "execution_count": 10,
   "metadata": {},
   "outputs": [
    {
     "name": "stdout",
     "output_type": "stream",
     "text": [
      "Train on 642 samples, validate on 24 samples\n",
      "Epoch 1/50\n",
      "642/642 [==============================] - 104s 162ms/step - loss: 17.1946 - accuracy: 0.1869 - val_loss: 1.7895 - val_accuracy: 0.0000e+00\n",
      "Epoch 2/50\n",
      "642/642 [==============================] - 104s 163ms/step - loss: 2.2878 - accuracy: 0.2539 - val_loss: 1.9437 - val_accuracy: 0.0000e+00\n",
      "Epoch 3/50\n",
      "642/642 [==============================] - 104s 162ms/step - loss: 1.7816 - accuracy: 0.2103 - val_loss: 2.0234 - val_accuracy: 0.0000e+00\n",
      "Epoch 4/50\n",
      "642/642 [==============================] - 105s 163ms/step - loss: 1.6396 - accuracy: 0.4782 - val_loss: 1.5808 - val_accuracy: 0.7500\n",
      "Epoch 5/50\n",
      "642/642 [==============================] - 104s 163ms/step - loss: 1.2645 - accuracy: 0.6121 - val_loss: 0.7716 - val_accuracy: 0.9167\n",
      "Epoch 6/50\n",
      "642/642 [==============================] - 104s 162ms/step - loss: 0.6378 - accuracy: 0.7804 - val_loss: 0.0993 - val_accuracy: 1.0000\n",
      "Epoch 7/50\n",
      "642/642 [==============================] - 105s 164ms/step - loss: 0.3988 - accuracy: 0.8567 - val_loss: 0.0891 - val_accuracy: 1.0000\n",
      "Epoch 8/50\n",
      "642/642 [==============================] - 104s 161ms/step - loss: 0.3589 - accuracy: 0.9034 - val_loss: 0.0849 - val_accuracy: 1.0000\n",
      "Epoch 9/50\n",
      "642/642 [==============================] - 104s 162ms/step - loss: 0.3087 - accuracy: 0.8972 - val_loss: 0.0633 - val_accuracy: 1.0000\n",
      "Epoch 10/50\n",
      "642/642 [==============================] - 104s 162ms/step - loss: 0.2576 - accuracy: 0.9097 - val_loss: 0.0557 - val_accuracy: 1.0000\n",
      "Epoch 11/50\n",
      "642/642 [==============================] - 103s 161ms/step - loss: 0.2206 - accuracy: 0.9143 - val_loss: 0.0168 - val_accuracy: 1.0000\n",
      "Epoch 12/50\n",
      "642/642 [==============================] - 104s 161ms/step - loss: 0.1863 - accuracy: 0.9206 - val_loss: 0.0129 - val_accuracy: 1.0000\n",
      "Epoch 13/50\n",
      "642/642 [==============================] - 102s 159ms/step - loss: 0.1750 - accuracy: 0.9455 - val_loss: 0.0122 - val_accuracy: 1.0000\n",
      "Epoch 14/50\n",
      "642/642 [==============================] - 104s 162ms/step - loss: 0.1523 - accuracy: 0.9439 - val_loss: 0.0396 - val_accuracy: 0.9583\n",
      "Epoch 15/50\n",
      "642/642 [==============================] - 103s 160ms/step - loss: 0.1655 - accuracy: 0.9252 - val_loss: 0.0792 - val_accuracy: 0.9583\n",
      "Epoch 16/50\n",
      "642/642 [==============================] - 103s 160ms/step - loss: 0.1633 - accuracy: 0.9221 - val_loss: 0.0134 - val_accuracy: 1.0000\n",
      "Epoch 17/50\n",
      "642/642 [==============================] - 102s 159ms/step - loss: 0.1346 - accuracy: 0.9486 - val_loss: 0.0201 - val_accuracy: 1.0000\n",
      "Epoch 18/50\n",
      "642/642 [==============================] - 102s 160ms/step - loss: 0.1382 - accuracy: 0.9377 - val_loss: 0.0228 - val_accuracy: 1.0000\n",
      "Epoch 19/50\n",
      "642/642 [==============================] - 102s 159ms/step - loss: 0.1502 - accuracy: 0.9486 - val_loss: 0.0252 - val_accuracy: 1.0000\n",
      "Epoch 20/50\n",
      "642/642 [==============================] - 102s 159ms/step - loss: 0.1224 - accuracy: 0.9517 - val_loss: 0.0534 - val_accuracy: 0.9583\n",
      "Epoch 21/50\n",
      "642/642 [==============================] - 102s 159ms/step - loss: 0.1215 - accuracy: 0.9579 - val_loss: 0.0929 - val_accuracy: 0.9583\n",
      "Epoch 22/50\n",
      "642/642 [==============================] - 102s 159ms/step - loss: 0.1252 - accuracy: 0.9517 - val_loss: 0.0318 - val_accuracy: 0.9583\n",
      "Epoch 23/50\n",
      "642/642 [==============================] - 102s 159ms/step - loss: 0.0919 - accuracy: 0.9611 - val_loss: 0.0292 - val_accuracy: 1.0000\n",
      "Epoch 24/50\n",
      "642/642 [==============================] - 102s 158ms/step - loss: 0.1151 - accuracy: 0.9611 - val_loss: 0.0173 - val_accuracy: 1.0000\n",
      "Epoch 25/50\n",
      "642/642 [==============================] - 102s 159ms/step - loss: 0.1260 - accuracy: 0.9533 - val_loss: 0.0503 - val_accuracy: 0.9583\n",
      "Epoch 26/50\n",
      "642/642 [==============================] - 102s 159ms/step - loss: 0.1048 - accuracy: 0.9548 - val_loss: 0.0286 - val_accuracy: 1.0000\n",
      "Epoch 27/50\n",
      "642/642 [==============================] - 102s 159ms/step - loss: 0.0898 - accuracy: 0.9564 - val_loss: 0.0044 - val_accuracy: 1.0000\n",
      "Epoch 28/50\n",
      "642/642 [==============================] - 102s 159ms/step - loss: 0.0960 - accuracy: 0.9642 - val_loss: 0.0084 - val_accuracy: 1.0000\n",
      "Epoch 29/50\n",
      "642/642 [==============================] - 102s 159ms/step - loss: 0.1027 - accuracy: 0.9626 - val_loss: 0.0431 - val_accuracy: 0.9583\n",
      "Epoch 30/50\n",
      "642/642 [==============================] - 102s 159ms/step - loss: 0.0939 - accuracy: 0.9657 - val_loss: 0.0112 - val_accuracy: 1.0000\n",
      "Epoch 31/50\n",
      "642/642 [==============================] - 101s 158ms/step - loss: 0.0980 - accuracy: 0.9564 - val_loss: 0.0116 - val_accuracy: 1.0000\n",
      "Epoch 32/50\n",
      "642/642 [==============================] - 102s 159ms/step - loss: 0.0869 - accuracy: 0.9611 - val_loss: 0.0078 - val_accuracy: 1.0000\n",
      "Epoch 33/50\n",
      "642/642 [==============================] - 102s 159ms/step - loss: 0.0954 - accuracy: 0.9579 - val_loss: 0.0019 - val_accuracy: 1.0000\n",
      "Epoch 34/50\n",
      "642/642 [==============================] - 102s 159ms/step - loss: 0.0933 - accuracy: 0.9548 - val_loss: 0.0165 - val_accuracy: 1.0000\n",
      "Epoch 35/50\n",
      "642/642 [==============================] - 102s 158ms/step - loss: 0.0957 - accuracy: 0.9595 - val_loss: 0.0264 - val_accuracy: 1.0000\n",
      "Epoch 36/50\n",
      "642/642 [==============================] - 102s 159ms/step - loss: 0.0783 - accuracy: 0.9642 - val_loss: 0.0507 - val_accuracy: 0.9583\n",
      "Epoch 37/50\n",
      "642/642 [==============================] - 101s 158ms/step - loss: 0.0867 - accuracy: 0.9642 - val_loss: 0.0354 - val_accuracy: 0.9583\n",
      "Epoch 38/50\n",
      "642/642 [==============================] - 101s 158ms/step - loss: 0.1018 - accuracy: 0.9424 - val_loss: 0.0183 - val_accuracy: 1.0000\n",
      "Epoch 39/50\n",
      "642/642 [==============================] - 102s 158ms/step - loss: 0.0871 - accuracy: 0.9579 - val_loss: 0.0155 - val_accuracy: 1.0000\n",
      "Epoch 40/50\n",
      "642/642 [==============================] - 102s 158ms/step - loss: 0.0739 - accuracy: 0.9626 - val_loss: 0.0223 - val_accuracy: 1.0000\n",
      "Epoch 41/50\n",
      "642/642 [==============================] - 102s 158ms/step - loss: 0.0842 - accuracy: 0.9595 - val_loss: 0.0738 - val_accuracy: 0.9583\n",
      "Epoch 42/50\n",
      "642/642 [==============================] - 102s 159ms/step - loss: 0.1058 - accuracy: 0.9470 - val_loss: 0.1233 - val_accuracy: 0.9583\n",
      "Epoch 43/50\n",
      "642/642 [==============================] - 102s 159ms/step - loss: 0.0807 - accuracy: 0.9704 - val_loss: 0.0948 - val_accuracy: 0.9583\n",
      "Epoch 44/50\n",
      "642/642 [==============================] - 102s 158ms/step - loss: 0.0827 - accuracy: 0.9720 - val_loss: 0.0582 - val_accuracy: 0.9583\n",
      "Epoch 45/50\n",
      "642/642 [==============================] - 102s 159ms/step - loss: 0.0900 - accuracy: 0.9626 - val_loss: 0.1108 - val_accuracy: 0.9583\n",
      "Epoch 46/50\n",
      "642/642 [==============================] - 102s 158ms/step - loss: 0.0836 - accuracy: 0.9735 - val_loss: 0.0872 - val_accuracy: 0.9583\n",
      "Epoch 47/50\n",
      "642/642 [==============================] - 102s 158ms/step - loss: 0.0876 - accuracy: 0.9673 - val_loss: 0.0526 - val_accuracy: 0.9583\n",
      "Epoch 48/50\n",
      "642/642 [==============================] - 102s 158ms/step - loss: 0.0747 - accuracy: 0.9704 - val_loss: 0.0538 - val_accuracy: 0.9583\n",
      "Epoch 49/50\n",
      "642/642 [==============================] - 102s 158ms/step - loss: 0.0707 - accuracy: 0.9720 - val_loss: 0.0632 - val_accuracy: 0.9583\n",
      "Epoch 50/50\n",
      "642/642 [==============================] - 102s 158ms/step - loss: 0.0861 - accuracy: 0.9673 - val_loss: 0.0415 - val_accuracy: 0.9583\n"
     ]
    }
   ],
   "source": [
    "                    '''Training'''\n",
    "model_log = model.fit(X_train_reshaped, y_train,\n",
    "                      batch_size=64,\n",
    "                      epochs=num_epoch,\n",
    "                      verbose=1,\n",
    "                      validation_data=(X_test_reshaped, y_test))"
   ]
  },
  {
   "cell_type": "markdown",
   "metadata": {},
   "source": []
  },
  {
   "cell_type": "code",
   "execution_count": 11,
   "metadata": {},
   "outputs": [
    {
     "data": {
      "image/png": "[encoded data removed]",
      "text/plain": [
       "<Figure size 432x288 with 1 Axes>"
      ]
     },
     "metadata": {
      "needs_background": "light"
     },
     "output_type": "display_data"
    },
    {
     "data": {
      "image/png": "[encoded data removed]",
      "text/plain": [
       "<Figure size 432x288 with 1 Axes>"
      ]
     },
     "metadata": {
      "needs_background": "light"
     },
     "output_type": "display_data"
    }
   ],
   "source": [
    "# Plot training & validation accuracy values\n",
    "plt.plot(model_log.history['accuracy'])\n",
    "plt.plot(model_log.history['val_accuracy'])\n",
    "plt.title('Model accuracy')\n",
    "plt.ylabel('Accuracy')\n",
    "plt.xlabel('Epoch')\n",
    "plt.legend(['Train', 'Test'], loc='upper left')\n",
    "plt.show()\n",
    "\n",
    "# Plot training & validation loss values\n",
    "plt.plot(model_log.history['loss'])\n",
    "plt.plot(model_log.history['val_loss'])\n",
    "plt.title('Model loss')\n",
    "plt.ylabel('Loss')\n",
    "plt.xlabel('Epoch')\n",
    "plt.legend(['Train', 'Test'], loc='upper left')\n",
    "plt.show()"
   ]
  },
  {
   "cell_type": "code",
   "execution_count": 12,
   "metadata": {},
   "outputs": [],
   "source": [
    "               \"\"\"Save Weights (DeepAnT)\"\"\"\n",
    "# save it to disk so we can load it back up anytime\n",
    "model.save_weights('elevator_2D_CNN_1.h5') "
   ]
  },
  {
   "cell_type": "code",
   "execution_count": 13,
   "metadata": {},
   "outputs": [
    {
     "name": "stdout",
     "output_type": "stream",
     "text": [
      "1/1 [==============================] - 0s 51ms/step\n",
      "[[0. 0. 0. 1. 0. 0.]]\n",
      "[0. 0. 0. 1. 0. 0.]\n"
     ]
    },
    {
     "data": {
      "image/png": "[encoded data removed]",
      "text/plain": [
       "<Figure size 432x288 with 1 Axes>"
      ]
     },
     "metadata": {
      "needs_background": "light"
     },
     "output_type": "display_data"
    }
   ],
   "source": [
    "            \"\"\"Classifying test sequence\"\"\" \n",
    "# Build model \n",
    "model = Sequential()\n",
    "model.add(Conv2D(24, kernel_size=(3, 3),\n",
    "                 activation='relu',\n",
    "                 input_shape=(X_train.shape[1], X_train.shape[2], num_features)))\n",
    "model.add(Conv2D(24, (3, 3), activation='relu'))\n",
    "model.add(MaxPooling2D(pool_size=(2, 2)))\n",
    "# model.add(Dropout(0.25))\n",
    "model.add(Flatten())\n",
    "model.add(Dense(30, activation='relu'))\n",
    "model.add(Dropout(0.5))\n",
    "model.add(Dense(num_category, activation='softmax'))\n",
    "\n",
    "# Load the model's saved weights.\n",
    "model.load_weights('elevator_2D_CNN_1.h5')\n",
    "\n",
    "# Predict the next time stampes of the sampled sequence\n",
    "ix = 10\n",
    "sample = array(data_value_dict[ix])\n",
    "plt.imshow(sample, cmap='gray', vmin=0, vmax=255)\n",
    "plt.show\n",
    "sample = sample.reshape(1, sample.shape[0], sample.shape[1], num_features)\n",
    "\n",
    "yhat = model.predict(sample, verbose=1)\n",
    "\n",
    "# Print our model's predictions.\n",
    "print(yhat)\n",
    "\n",
    "# Check our predictions against the ground truths.\n",
    "print(keras.utils.to_categorical(data_label_dict[ix], num_category)) # [7, 2, 1, 0, 4]"
   ]
  },
  {
   "cell_type": "code",
   "execution_count": null,
   "metadata": {},
   "outputs": [],
   "source": []
  }
 ],
 "metadata": {
  "kernelspec": {
   "display_name": "Python 3",
   "language": "python",
   "name": "python3"
  },
  "language_info": {
   "codemirror_mode": {
    "name": "ipython",
    "version": 3
   },
   "file_extension": ".py",
   "mimetype": "text/x-python",
   "name": "python",
   "nbconvert_exporter": "python",
   "pygments_lexer": "ipython3",
   "version": "3.7.0"
  }
 },
 "nbformat": 4,
 "nbformat_minor": 2
}
