{
 "cells": [
  {
   "cell_type": "code",
   "execution_count": 1,
   "metadata": {},
   "outputs": [
    {
     "name": "stderr",
     "output_type": "stream",
     "text": [
      "Using TensorFlow backend.\n"
     ]
    }
   ],
   "source": [
    "import numpy as np\n",
    "from numpy import array\n",
    "import random\n",
    "from random import randint\n",
    "import os\n",
    "import matplotlib.pyplot as plt\n",
    "import pandas as pd\n",
    "import keras\n",
    "from keras.models import Sequential\n",
    "from keras.layers import Dense, Conv2D, Flatten, Activation, MaxPooling2D, Dropout\n",
    "from keras.optimizers import SGD"
   ]
  },
  {
   "cell_type": "code",
   "execution_count": 2,
   "metadata": {},
   "outputs": [],
   "source": [
    "os.environ[\"CUDA_DEVICE_ORDER\"]=\"PCI_BUS_ID\"\n",
    "os.environ[\"CUDA_VISIBLE_DEVICES\"]=\"1\" #model will be trained on GPU 1"
   ]
  },
  {
   "cell_type": "code",
   "execution_count": 3,
   "metadata": {},
   "outputs": [],
   "source": [
    "                '''Parameters'''\n",
    "### Parameters\n",
    "num_data = 667\n",
    "  \n",
    "### Model Hyperparameters\n",
    "w = 2000                 # History window (number of time stamps taken into account) \n",
    "                         # i.e., filter(kernel) size       \n",
    "p_w = 300                # Prediction window (number of time stampes required to be \n",
    "                         # predicted)\n",
    "num_features = 1           # grayscale image\n",
    "num_category = 6\n",
    "category_dict = {0 : 'UP_1-2F', 1: 'UP_3-4F', 2 : 'UP_5-7F', 3 : 'DOWN_1-2F', 4: 'DOWN_3-4F', 5 : 'DOWN_5-7F'}\n",
    "\n",
    "kernel_size = 3          # Size of filter in conv layers\n",
    "num_neuron_1 = 32        # Number of filters in first conv layer\n",
    "num_neuron_2 = 32        # Number of filters in second conv layer\n",
    "num_neuron_dl = 40       # Number of neurons in dense layer\n",
    "\n",
    "conv_strides = 1\n",
    "pool_size_1 = 2          # Length of window of pooling layer 1\n",
    "pool_size_2 = 2          # Length of window of pooling layer 2\n",
    "pool_strides_1 = 2       # Stride of window of pooling layer 1\n",
    "pool_strides_2 = 2       # Stride of window of pooling layer 2\n",
    "\n",
    "num_epoch = 50\n",
    "learning_rate = 2e-5  "
   ]
  },
  {
   "cell_type": "code",
   "execution_count": 4,
   "metadata": {},
   "outputs": [],
   "source": [
    "                \"\"\"Data loading\"\"\"\n",
    "import requests\n",
    "import shutil\n",
    "\n",
    "data_value_dict = {}\n",
    "data_label_dict = {}\n",
    "max_length = 0\n",
    "df_temp = pd.read_csv(r'C:\\Users\\A\\Desktop\\Classification\\label.csv')\n",
    "\n",
    "\n",
    "for i in range(0, num_data):\n",
    "  \n",
    "  \n",
    "  \n",
    "  im_array = np.load(r'C:\\Users\\A\\Desktop\\Classification\\my_data\\png/'+str(i)+'.npy', allow_pickle=True)\n",
    "  data_value_dict[i] = im_array\n",
    "  data_label_dict[i] = df_temp['Label'][i]\n",
    "#print(data_label_dict)\n",
    "  "
   ]
  },
  {
   "cell_type": "code",
   "execution_count": 5,
   "metadata": {},
   "outputs": [],
   "source": [
    "                \"\"\"Data preprocessing\"\"\"\n",
    "# Map raw labels to each category\n",
    "def is_up(label):\n",
    "    return (label / 100 >= 1)\n",
    "def is_0_2F(label):\n",
    "    if (is_up(label)) :\n",
    "      label = label - 100\n",
    "    return (label / 10 < 3)\n",
    "def is_3_4F(label):\n",
    "    if (is_up(label)) :\n",
    "      label = label - 100\n",
    "    return (3 <= label / 10 < 5)\n",
    "\n",
    "for i in range(0, num_data):\n",
    "    label = data_label_dict[i]\n",
    "    if is_up(label) :\n",
    "        if is_0_2F(label) : data_label_dict[i] = 0\n",
    "        elif is_3_4F(label) : data_label_dict[i] = 1\n",
    "        else : data_label_dict[i] = 2\n",
    "    else :\n",
    "        if is_0_2F(label) : data_label_dict[i] = 3\n",
    "        elif is_3_4F(label) : data_label_dict[i] = 4\n",
    "        else : data_label_dict[i] = 5"
   ]
  },
  {
   "cell_type": "code",
   "execution_count": 6,
   "metadata": {},
   "outputs": [
    {
     "name": "stdout",
     "output_type": "stream",
     "text": [
      "(665, 400, 600) (665,) (1, 400, 600) (1,)\n",
      "X_train_reshaped shape: (665, 400, 600, 1)\n",
      "X_test_reshaped shape: (1, 400, 600, 1)\n"
     ]
    }
   ],
   "source": [
    "# split into test and training set and convert data into array\n",
    "test_ix = randint(1,num_data + 1)\n",
    "X_test, y_test, X_train, y_train = list(), list(), list(), list()\n",
    "for i in range(1, num_data) :\n",
    "  if(i != test_ix):\n",
    "    X_train.append(data_value_dict[i])\n",
    "    y_train.append(data_label_dict[i])\n",
    "  else :\n",
    "    X_test.append(data_value_dict[i])\n",
    "    y_test.append(data_label_dict[i])\n",
    "X_train = array(X_train)\n",
    "y_train = array(y_train)\n",
    "X_test = array(X_test)\n",
    "y_test = array(y_test)\n",
    "print(X_train.shape, y_train.shape, X_test.shape, y_test.shape)\n",
    "X_train_reshaped = X_train.reshape(X_train.shape[0], X_train.shape[1], X_train.shape[2], num_features)\n",
    "X_test_reshaped = X_test.reshape(X_test.shape[0], X_test.shape[1], X_test.shape[2], num_features)\n",
    "\n",
    "# reformat array\n",
    "X_train_reshaped = X_train_reshaped.astype('float32')\n",
    "X_test_reshaped = X_test_reshaped.astype('float32')\n",
    "X_train_reshaped /= 255\n",
    "X_test_reshaped /= 255\n",
    "print('X_train_reshaped shape:', X_train_reshaped.shape) #X_train shape: (60000, 28, 28, 1)\n",
    "print('X_test_reshaped shape:', X_test_reshaped.shape) #X_test shape: (60000, 28, 28, 1)\n",
    "\n",
    "# convert class vectors to binary class matrices\n",
    "y_train = keras.utils.to_categorical(y_train, num_category)\n",
    "y_test = keras.utils.to_categorical(y_test, num_category)"
   ]
  },
  {
   "cell_type": "code",
   "execution_count": 7,
   "metadata": {},
   "outputs": [
    {
     "name": "stdout",
     "output_type": "stream",
     "text": [
      "Model: \"sequential_1\"\n",
      "_________________________________________________________________\n",
      "Layer (type)                 Output Shape              Param #   \n",
      "=================================================================\n",
      "conv2d_1 (Conv2D)            (None, 398, 598, 24)      240       \n",
      "_________________________________________________________________\n",
      "conv2d_2 (Conv2D)            (None, 396, 596, 24)      5208      \n",
      "_________________________________________________________________\n",
      "max_pooling2d_1 (MaxPooling2 (None, 198, 298, 24)      0         \n",
      "_________________________________________________________________\n",
      "flatten_1 (Flatten)          (None, 1416096)           0         \n",
      "_________________________________________________________________\n",
      "dense_1 (Dense)              (None, 30)                42482910  \n",
      "_________________________________________________________________\n",
      "dropout_1 (Dropout)          (None, 30)                0         \n",
      "_________________________________________________________________\n",
      "dense_2 (Dense)              (None, 6)                 186       \n",
      "=================================================================\n",
      "Total params: 42,488,544\n",
      "Trainable params: 42,488,544\n",
      "Non-trainable params: 0\n",
      "_________________________________________________________________\n"
     ]
    }
   ],
   "source": [
    "                 '''Model building'''\n",
    "model = Sequential()\n",
    "model.add(Conv2D(24, kernel_size=(3, 3),\n",
    "                 activation='relu',\n",
    "                 input_shape=(X_train.shape[1], X_train.shape[2], num_features)))\n",
    "model.add(Conv2D(24, (3, 3), activation='relu'))\n",
    "model.add(MaxPooling2D(pool_size=(2, 2)))\n",
    "# model.add(Dropout(0.25))\n",
    "model.add(Flatten())\n",
    "model.add(Dense(30, activation='relu'))\n",
    "model.add(Dropout(0.5))\n",
    "model.add(Dense(num_category, activation='softmax'))\n",
    "model.summary()"
   ]
  },
  {
   "cell_type": "code",
   "execution_count": 8,
   "metadata": {},
   "outputs": [],
   "source": [
    "                 '''configure model'''\n",
    "model.compile(optimizer='adam', \n",
    "              loss=keras.losses.categorical_crossentropy,\n",
    "              metrics=[\"accuracy\"])\n",
    "\n",
    "# sgd = keras.optimizers.SGD(lr=learning_rate, \n",
    "#                          decay=1e-6, \n",
    "#                          momentum=0.9, \n",
    "#                          nesterov=True)\n",
    "# model.compile(optimizer='sgd', \n",
    "#               loss='mean_absolute_error', \n",
    "#               metrics=['accuracy'])"
   ]
  },
  {
   "cell_type": "code",
   "execution_count": 9,
   "metadata": {},
   "outputs": [
    {
     "name": "stdout",
     "output_type": "stream",
     "text": [
      "Train on 665 samples, validate on 1 samples\n",
      "Epoch 1/50\n",
      "665/665 [==============================] - 106s 159ms/step - loss: 12.4356 - accuracy: 0.1955 - val_loss: 1.7828 - val_accuracy: 1.0000\n",
      "Epoch 2/50\n",
      "665/665 [==============================] - 105s 158ms/step - loss: 1.7886 - accuracy: 0.2917 - val_loss: 1.7739 - val_accuracy: 1.0000\n",
      "Epoch 3/50\n",
      "665/665 [==============================] - 109s 163ms/step - loss: 1.7857 - accuracy: 0.2917 - val_loss: 1.7640 - val_accuracy: 1.0000\n",
      "Epoch 4/50\n",
      "665/665 [==============================] - 108s 163ms/step - loss: 2.7322 - accuracy: 0.2962 - val_loss: 1.7533 - val_accuracy: 1.0000\n",
      "Epoch 5/50\n",
      "665/665 [==============================] - 107s 161ms/step - loss: 1.7014 - accuracy: 0.4677 - val_loss: 1.4338 - val_accuracy: 1.0000\n",
      "Epoch 6/50\n",
      "665/665 [==============================] - 106s 159ms/step - loss: 1.2089 - accuracy: 0.6977 - val_loss: 0.0096 - val_accuracy: 1.0000\n",
      "Epoch 7/50\n",
      "665/665 [==============================] - 106s 159ms/step - loss: 0.9442 - accuracy: 0.7835 - val_loss: 2.0842 - val_accuracy: 0.0000e+00\n",
      "Epoch 8/50\n",
      "665/665 [==============================] - 105s 158ms/step - loss: 0.8183 - accuracy: 0.7699 - val_loss: 0.0611 - val_accuracy: 1.0000\n",
      "Epoch 9/50\n",
      "665/665 [==============================] - 106s 159ms/step - loss: 0.4824 - accuracy: 0.8677 - val_loss: 0.0196 - val_accuracy: 1.0000\n",
      "Epoch 10/50\n",
      "665/665 [==============================] - 105s 158ms/step - loss: 0.3617 - accuracy: 0.8962 - val_loss: 0.0058 - val_accuracy: 1.0000\n",
      "Epoch 11/50\n",
      "665/665 [==============================] - 105s 158ms/step - loss: 0.2583 - accuracy: 0.9248 - val_loss: 0.0012 - val_accuracy: 1.0000\n",
      "Epoch 12/50\n",
      "665/665 [==============================] - 105s 159ms/step - loss: 0.3318 - accuracy: 0.8932 - val_loss: 1.1169e-04 - val_accuracy: 1.0000\n",
      "Epoch 13/50\n",
      "665/665 [==============================] - 105s 158ms/step - loss: 0.2157 - accuracy: 0.9218 - val_loss: 4.7482e-04 - val_accuracy: 1.0000\n",
      "Epoch 14/50\n",
      "665/665 [==============================] - 106s 159ms/step - loss: 0.2025 - accuracy: 0.9338 - val_loss: 6.6318e-04 - val_accuracy: 1.0000\n",
      "Epoch 15/50\n",
      "665/665 [==============================] - 105s 158ms/step - loss: 0.2002 - accuracy: 0.9263 - val_loss: 1.2004e-04 - val_accuracy: 1.0000\n",
      "Epoch 16/50\n",
      "665/665 [==============================] - 105s 158ms/step - loss: 0.1698 - accuracy: 0.9308 - val_loss: 5.3644e-06 - val_accuracy: 1.0000\n",
      "Epoch 17/50\n",
      "665/665 [==============================] - 105s 158ms/step - loss: 0.1664 - accuracy: 0.9368 - val_loss: 5.3644e-06 - val_accuracy: 1.0000\n",
      "Epoch 18/50\n",
      "665/665 [==============================] - 105s 158ms/step - loss: 0.1342 - accuracy: 0.9489 - val_loss: 1.7881e-06 - val_accuracy: 1.0000\n",
      "Epoch 19/50\n",
      "665/665 [==============================] - 105s 158ms/step - loss: 0.1242 - accuracy: 0.9474 - val_loss: 9.5367e-07 - val_accuracy: 1.0000\n",
      "Epoch 20/50\n",
      "665/665 [==============================] - 105s 158ms/step - loss: 0.1305 - accuracy: 0.9519 - val_loss: 9.5367e-07 - val_accuracy: 1.0000\n",
      "Epoch 21/50\n",
      "665/665 [==============================] - 105s 159ms/step - loss: 0.1222 - accuracy: 0.9444 - val_loss: 2.3842e-07 - val_accuracy: 1.0000\n",
      "Epoch 22/50\n",
      "665/665 [==============================] - 105s 158ms/step - loss: 0.1218 - accuracy: 0.9489 - val_loss: 4.8876e-06 - val_accuracy: 1.0000\n",
      "Epoch 23/50\n",
      "665/665 [==============================] - 105s 158ms/step - loss: 0.1262 - accuracy: 0.9504 - val_loss: 1.6093e-05 - val_accuracy: 1.0000\n",
      "Epoch 24/50\n",
      "665/665 [==============================] - 105s 158ms/step - loss: 0.1291 - accuracy: 0.9579 - val_loss: 8.3446e-07 - val_accuracy: 1.0000\n",
      "Epoch 25/50\n",
      "665/665 [==============================] - 105s 158ms/step - loss: 0.1075 - accuracy: 0.9519 - val_loss: 0.0000e+00 - val_accuracy: 1.0000\n",
      "Epoch 26/50\n",
      "665/665 [==============================] - 105s 158ms/step - loss: 0.0910 - accuracy: 0.9639 - val_loss: 0.0000e+00 - val_accuracy: 1.0000\n",
      "Epoch 27/50\n",
      "665/665 [==============================] - 105s 159ms/step - loss: 0.1041 - accuracy: 0.9519 - val_loss: 0.0000e+00 - val_accuracy: 1.0000\n",
      "Epoch 28/50\n",
      "665/665 [==============================] - 105s 158ms/step - loss: 0.0942 - accuracy: 0.9519 - val_loss: 0.0000e+00 - val_accuracy: 1.0000\n",
      "Epoch 29/50\n",
      "665/665 [==============================] - 106s 159ms/step - loss: 0.1006 - accuracy: 0.9564 - val_loss: 0.0000e+00 - val_accuracy: 1.0000\n",
      "Epoch 30/50\n",
      "665/665 [==============================] - 105s 158ms/step - loss: 0.0887 - accuracy: 0.9669 - val_loss: 0.0000e+00 - val_accuracy: 1.0000\n",
      "Epoch 31/50\n",
      "665/665 [==============================] - 105s 158ms/step - loss: 0.0793 - accuracy: 0.9714 - val_loss: 0.0000e+00 - val_accuracy: 1.0000\n",
      "Epoch 32/50\n",
      "665/665 [==============================] - 106s 159ms/step - loss: 0.0711 - accuracy: 0.9729 - val_loss: 0.0000e+00 - val_accuracy: 1.0000\n",
      "Epoch 33/50\n",
      "665/665 [==============================] - 106s 159ms/step - loss: 0.0880 - accuracy: 0.9639 - val_loss: 0.0000e+00 - val_accuracy: 1.0000\n",
      "Epoch 34/50\n",
      "665/665 [==============================] - 105s 158ms/step - loss: 0.0742 - accuracy: 0.9654 - val_loss: 0.0000e+00 - val_accuracy: 1.0000\n",
      "Epoch 35/50\n",
      "665/665 [==============================] - 106s 159ms/step - loss: 0.0855 - accuracy: 0.9624 - val_loss: 0.0000e+00 - val_accuracy: 1.0000\n",
      "Epoch 36/50\n",
      "665/665 [==============================] - 105s 158ms/step - loss: 0.0691 - accuracy: 0.9714 - val_loss: 0.0000e+00 - val_accuracy: 1.0000\n",
      "Epoch 37/50\n",
      "665/665 [==============================] - 105s 158ms/step - loss: 0.0762 - accuracy: 0.9729 - val_loss: 0.0000e+00 - val_accuracy: 1.0000\n",
      "Epoch 38/50\n",
      "665/665 [==============================] - 106s 159ms/step - loss: 0.0648 - accuracy: 0.9789 - val_loss: 0.0000e+00 - val_accuracy: 1.0000\n",
      "Epoch 39/50\n",
      "665/665 [==============================] - 105s 158ms/step - loss: 0.0788 - accuracy: 0.9669 - val_loss: 0.0000e+00 - val_accuracy: 1.0000\n",
      "Epoch 40/50\n",
      "665/665 [==============================] - 106s 159ms/step - loss: 0.0590 - accuracy: 0.9835 - val_loss: 0.0000e+00 - val_accuracy: 1.0000\n",
      "Epoch 41/50\n",
      "665/665 [==============================] - 105s 158ms/step - loss: 0.0733 - accuracy: 0.9759 - val_loss: 1.7643e-05 - val_accuracy: 1.0000\n",
      "Epoch 42/50\n",
      "665/665 [==============================] - 105s 159ms/step - loss: 0.1525 - accuracy: 0.9564 - val_loss: 3.6757e-04 - val_accuracy: 1.0000\n",
      "Epoch 43/50\n",
      "665/665 [==============================] - 105s 158ms/step - loss: 0.1958 - accuracy: 0.9669 - val_loss: 0.0015 - val_accuracy: 1.0000\n",
      "Epoch 44/50\n",
      "665/665 [==============================] - 106s 159ms/step - loss: 0.1282 - accuracy: 0.9759 - val_loss: 1.3351e-05 - val_accuracy: 1.0000\n",
      "Epoch 45/50\n",
      "665/665 [==============================] - 105s 158ms/step - loss: 0.1027 - accuracy: 0.9714 - val_loss: 1.9073e-06 - val_accuracy: 1.0000\n",
      "Epoch 46/50\n",
      "665/665 [==============================] - 105s 158ms/step - loss: 0.0805 - accuracy: 0.9759 - val_loss: 0.0000e+00 - val_accuracy: 1.0000\n",
      "Epoch 47/50\n",
      "665/665 [==============================] - 105s 158ms/step - loss: 0.0924 - accuracy: 0.9654 - val_loss: 0.0000e+00 - val_accuracy: 1.0000\n",
      "Epoch 48/50\n",
      "665/665 [==============================] - 106s 159ms/step - loss: 0.0655 - accuracy: 0.9835 - val_loss: 1.1921e-07 - val_accuracy: 1.0000\n",
      "Epoch 49/50\n",
      "665/665 [==============================] - 105s 158ms/step - loss: 0.0819 - accuracy: 0.9774 - val_loss: 1.1921e-07 - val_accuracy: 1.0000\n",
      "Epoch 50/50\n",
      "665/665 [==============================] - 105s 158ms/step - loss: 0.0779 - accuracy: 0.9729 - val_loss: 0.0000e+00 - val_accuracy: 1.0000\n"
     ]
    }
   ],
   "source": [
    "                    '''Training'''\n",
    "model_log = model.fit(X_train_reshaped, y_train,\n",
    "                      batch_size=64,\n",
    "                      epochs=num_epoch,\n",
    "                      verbose=1,\n",
    "                      validation_data=(X_test_reshaped, y_test))"
   ]
  },
  {
   "cell_type": "markdown",
   "metadata": {},
   "source": []
  },
  {
   "cell_type": "code",
   "execution_count": 10,
   "metadata": {},
   "outputs": [
    {
     "data": {
      "image/png": "[encoded data removed]",
      "text/plain": [
       "<Figure size 432x288 with 1 Axes>"
      ]
     },
     "metadata": {
      "needs_background": "light"
     },
     "output_type": "display_data"
    },
    {
     "data": {
      "image/png": "[encoded data removed]",
      "text/plain": [
       "<Figure size 432x288 with 1 Axes>"
      ]
     },
     "metadata": {
      "needs_background": "light"
     },
     "output_type": "display_data"
    }
   ],
   "source": [
    "# Plot training & validation accuracy values\n",
    "plt.plot(model_log.history['accuracy'])\n",
    "plt.plot(model_log.history['val_accuracy'])\n",
    "plt.title('Model accuracy')\n",
    "plt.ylabel('Accuracy')\n",
    "plt.xlabel('Epoch')\n",
    "plt.legend(['Train', 'Test'], loc='upper left')\n",
    "plt.show()\n",
    "\n",
    "# Plot training & validation loss values\n",
    "plt.plot(model_log.history['loss'])\n",
    "plt.plot(model_log.history['val_loss'])\n",
    "plt.title('Model loss')\n",
    "plt.ylabel('Loss')\n",
    "plt.xlabel('Epoch')\n",
    "plt.legend(['Train', 'Test'], loc='upper left')\n",
    "plt.show()"
   ]
  },
  {
   "cell_type": "code",
   "execution_count": 11,
   "metadata": {},
   "outputs": [],
   "source": [
    "               \"\"\"Save Weights (DeepAnT)\"\"\"\n",
    "# save it to disk so we can load it back up anytime\n",
    "model.save_weights('elevator_2D_CNN_1.h5') "
   ]
  },
  {
   "cell_type": "code",
   "execution_count": 13,
   "metadata": {},
   "outputs": [
    {
     "name": "stdout",
     "output_type": "stream",
     "text": [
      "1/1 [==============================] - 0s 58ms/step\n",
      "[[0. 0. 0. 1. 0. 0.]]\n",
      "[0. 0. 0. 1. 0. 0.]\n"
     ]
    },
    {
     "data": {
      "image/png": "[encoded data removed]",
      "text/plain": [
       "<Figure size 432x288 with 1 Axes>"
      ]
     },
     "metadata": {
      "needs_background": "light"
     },
     "output_type": "display_data"
    }
   ],
   "source": [
    "            \"\"\"Classifying test sequence\"\"\" \n",
    "# Build model \n",
    "model = Sequential()\n",
    "model.add(Conv2D(24, kernel_size=(3, 3),\n",
    "                 activation='relu',\n",
    "                 input_shape=(X_train.shape[1], X_train.shape[2], num_features)))\n",
    "model.add(Conv2D(24, (3, 3), activation='relu'))\n",
    "model.add(MaxPooling2D(pool_size=(2, 2)))\n",
    "# model.add(Dropout(0.25))\n",
    "model.add(Flatten())\n",
    "model.add(Dense(30, activation='relu'))\n",
    "model.add(Dropout(0.5))\n",
    "model.add(Dense(num_category, activation='softmax'))\n",
    "\n",
    "# Load the model's saved weights.\n",
    "model.load_weights('elevator_2D_CNN_1.h5')\n",
    "\n",
    "# Predict the next time stampes of the sampled sequence\n",
    "ix = 10\n",
    "sample = array(data_value_dict[ix])\n",
    "plt.imshow(sample, cmap='gray', vmin=0, vmax=255)\n",
    "plt.show\n",
    "sample = sample.reshape(1, sample.shape[0], sample.shape[1], num_features)\n",
    "\n",
    "yhat = model.predict(sample, verbose=1)\n",
    "\n",
    "# Print our model's predictions.\n",
    "print(yhat)\n",
    "\n",
    "# Check our predictions against the ground truths.\n",
    "print(keras.utils.to_categorical(data_label_dict[ix], num_category)) # [7, 2, 1, 0, 4]"
   ]
  },
  {
   "cell_type": "code",
   "execution_count": null,
   "metadata": {},
   "outputs": [],
   "source": []
  }
 ],
 "metadata": {
  "kernelspec": {
   "display_name": "Python 3",
   "language": "python",
   "name": "python3"
  },
  "language_info": {
   "codemirror_mode": {
    "name": "ipython",
    "version": 3
   },
   "file_extension": ".py",
   "mimetype": "text/x-python",
   "name": "python",
   "nbconvert_exporter": "python",
   "pygments_lexer": "ipython3",
   "version": "3.7.0"
  }
 },
 "nbformat": 4,
 "nbformat_minor": 2
}
