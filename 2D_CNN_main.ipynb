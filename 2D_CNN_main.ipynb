{
 "cells": [
  {
   "cell_type": "markdown",
   "metadata": {
    "colab_type": "text",
    "id": "view-in-github"
   },
   "source": [
    "<a href=\"https://colab.research.google.com/github/swlee23/Deep-Learning-Elevator-Current-Time-Series-Classification/blob/master/2D_CNN_main.ipynb\" target=\"_parent\"><img src=\"https://colab.research.google.com/assets/colab-badge.svg\" alt=\"Open In Colab\"/></a>"
   ]
  },
  {
   "cell_type": "code",
   "execution_count": 1,
   "metadata": {
    "colab": {},
    "colab_type": "code",
    "id": "mJssM9Hd_rHt"
   },
   "outputs": [],
   "source": [
    "# Things to be included\n",
    "# 1. visualization tools for optimization\n",
    "# 2. visualization tools for plotting actual and predicted sequence, and anomaly points\n",
    "# 3. Computation cost calculation\n",
    "# 4. Warnings / Errors?"
   ]
  },
  {
   "cell_type": "code",
   "execution_count": 1,
   "metadata": {
    "colab": {
     "base_uri": "https://localhost:8080/",
     "height": 35
    },
    "colab_type": "code",
    "id": "60oNtF4FWakJ",
    "outputId": "631d5d6f-bcda-4841-d0df-0354e24ff6f0"
   },
   "outputs": [
    {
     "name": "stderr",
     "output_type": "stream",
     "text": [
      "Using TensorFlow backend.\n",
      "C:\\Users\\wangd\\Anaconda3\\lib\\site-packages\\tensorflow\\python\\framework\\dtypes.py:516: FutureWarning: Passing (type, 1) or '1type' as a synonym of type is deprecated; in a future version of numpy, it will be understood as (type, (1,)) / '(1,)type'.\n",
      "  _np_qint8 = np.dtype([(\"qint8\", np.int8, 1)])\n",
      "C:\\Users\\wangd\\Anaconda3\\lib\\site-packages\\tensorflow\\python\\framework\\dtypes.py:517: FutureWarning: Passing (type, 1) or '1type' as a synonym of type is deprecated; in a future version of numpy, it will be understood as (type, (1,)) / '(1,)type'.\n",
      "  _np_quint8 = np.dtype([(\"quint8\", np.uint8, 1)])\n",
      "C:\\Users\\wangd\\Anaconda3\\lib\\site-packages\\tensorflow\\python\\framework\\dtypes.py:518: FutureWarning: Passing (type, 1) or '1type' as a synonym of type is deprecated; in a future version of numpy, it will be understood as (type, (1,)) / '(1,)type'.\n",
      "  _np_qint16 = np.dtype([(\"qint16\", np.int16, 1)])\n",
      "C:\\Users\\wangd\\Anaconda3\\lib\\site-packages\\tensorflow\\python\\framework\\dtypes.py:519: FutureWarning: Passing (type, 1) or '1type' as a synonym of type is deprecated; in a future version of numpy, it will be understood as (type, (1,)) / '(1,)type'.\n",
      "  _np_quint16 = np.dtype([(\"quint16\", np.uint16, 1)])\n",
      "C:\\Users\\wangd\\Anaconda3\\lib\\site-packages\\tensorflow\\python\\framework\\dtypes.py:520: FutureWarning: Passing (type, 1) or '1type' as a synonym of type is deprecated; in a future version of numpy, it will be understood as (type, (1,)) / '(1,)type'.\n",
      "  _np_qint32 = np.dtype([(\"qint32\", np.int32, 1)])\n",
      "C:\\Users\\wangd\\Anaconda3\\lib\\site-packages\\tensorflow\\python\\framework\\dtypes.py:525: FutureWarning: Passing (type, 1) or '1type' as a synonym of type is deprecated; in a future version of numpy, it will be understood as (type, (1,)) / '(1,)type'.\n",
      "  np_resource = np.dtype([(\"resource\", np.ubyte, 1)])\n",
      "C:\\Users\\wangd\\Anaconda3\\lib\\site-packages\\tensorboard\\compat\\tensorflow_stub\\dtypes.py:541: FutureWarning: Passing (type, 1) or '1type' as a synonym of type is deprecated; in a future version of numpy, it will be understood as (type, (1,)) / '(1,)type'.\n",
      "  _np_qint8 = np.dtype([(\"qint8\", np.int8, 1)])\n",
      "C:\\Users\\wangd\\Anaconda3\\lib\\site-packages\\tensorboard\\compat\\tensorflow_stub\\dtypes.py:542: FutureWarning: Passing (type, 1) or '1type' as a synonym of type is deprecated; in a future version of numpy, it will be understood as (type, (1,)) / '(1,)type'.\n",
      "  _np_quint8 = np.dtype([(\"quint8\", np.uint8, 1)])\n",
      "C:\\Users\\wangd\\Anaconda3\\lib\\site-packages\\tensorboard\\compat\\tensorflow_stub\\dtypes.py:543: FutureWarning: Passing (type, 1) or '1type' as a synonym of type is deprecated; in a future version of numpy, it will be understood as (type, (1,)) / '(1,)type'.\n",
      "  _np_qint16 = np.dtype([(\"qint16\", np.int16, 1)])\n",
      "C:\\Users\\wangd\\Anaconda3\\lib\\site-packages\\tensorboard\\compat\\tensorflow_stub\\dtypes.py:544: FutureWarning: Passing (type, 1) or '1type' as a synonym of type is deprecated; in a future version of numpy, it will be understood as (type, (1,)) / '(1,)type'.\n",
      "  _np_quint16 = np.dtype([(\"quint16\", np.uint16, 1)])\n",
      "C:\\Users\\wangd\\Anaconda3\\lib\\site-packages\\tensorboard\\compat\\tensorflow_stub\\dtypes.py:545: FutureWarning: Passing (type, 1) or '1type' as a synonym of type is deprecated; in a future version of numpy, it will be understood as (type, (1,)) / '(1,)type'.\n",
      "  _np_qint32 = np.dtype([(\"qint32\", np.int32, 1)])\n",
      "C:\\Users\\wangd\\Anaconda3\\lib\\site-packages\\tensorboard\\compat\\tensorflow_stub\\dtypes.py:550: FutureWarning: Passing (type, 1) or '1type' as a synonym of type is deprecated; in a future version of numpy, it will be understood as (type, (1,)) / '(1,)type'.\n",
      "  np_resource = np.dtype([(\"resource\", np.ubyte, 1)])\n"
     ]
    }
   ],
   "source": [
    "import numpy as np\n",
    "from numpy import array\n",
    "import random\n",
    "from random import randint\n",
    "import os\n",
    "import matplotlib.pyplot as plt\n",
    "import pandas as pd\n",
    "import keras\n",
    "from keras.models import Sequential\n",
    "from keras.layers import Dense, Conv2D, Flatten, Activation, MaxPooling2D, Dropout\n",
    "from keras.optimizers import SGD"
   ]
  },
  {
   "cell_type": "code",
   "execution_count": 2,
   "metadata": {
    "colab": {},
    "colab_type": "code",
    "id": "9A1LKB0GwtQH"
   },
   "outputs": [],
   "source": [
    "os.environ[\"CUDA_DEVICE_ORDER\"]=\"PCI_BUS_ID\"\n",
    "os.environ[\"CUDA_VISIBLE_DEVICES\"]=\"1\" #model will be trained on GPU 1"
   ]
  },
  {
   "cell_type": "code",
   "execution_count": 3,
   "metadata": {
    "colab": {},
    "colab_type": "code",
    "id": "vCvn51nkpuah"
   },
   "outputs": [],
   "source": [
    "                '''Parameters'''\n",
    "### Parameters\n",
    "num_data = 47\n",
    "  \n",
    "### Model Hyperparameters\n",
    "w = 2000                 # History window (number of time stamps taken into account) \n",
    "                         # i.e., filter(kernel) size       \n",
    "p_w = 300                # Prediction window (number of time stampes required to be \n",
    "                         # predicted)\n",
    "num_features = 1           # grayscale image\n",
    "num_category = 6\n",
    "category_dict = {0 : 'UP_1-2F', 1: 'UP_3-4F', 2 : 'UP_5-7F', 3 : 'DOWN_1-2F', 4: 'DOWN_3-4F', 5 : 'DOWN_5-7F'}\n",
    "\n",
    "kernel_size = 3          # Size of filter in conv layers\n",
    "num_neuron_1 = 32        # Number of filters in first conv layer\n",
    "num_neuron_2 = 32        # Number of filters in second conv layer\n",
    "num_neuron_dl = 40       # Number of neurons in dense layer\n",
    "\n",
    "conv_strides = 1\n",
    "pool_size_1 = 2          # Length of window of pooling layer 1\n",
    "pool_size_2 = 2          # Length of window of pooling layer 2\n",
    "pool_strides_1 = 2       # Stride of window of pooling layer 1\n",
    "pool_strides_2 = 2       # Stride of window of pooling layer 2\n",
    "\n",
    "num_epoch = 30\n",
    "learning_rate = 2e-5  "
   ]
  },
  {
   "cell_type": "code",
   "execution_count": 7,
   "metadata": {
    "colab": {},
    "colab_type": "code",
    "id": "aKYzBd94KZFu"
   },
   "outputs": [
    {
     "name": "stdout",
     "output_type": "stream",
     "text": [
      "{1: 161.0, 2: 61.0, 3: 60.0, 4: 141.0, 5: 120.0, 6: 151.0, 7: 111.0, 8: 61.0, 9: 161.0, 10: 60.0, 11: 20.0, 12: 160.0, 13: 160.0, 14: 60.0, 15: 60.0, 16: 10.0, 17: 111.0, 18: 142.0, 19: 111.0, 20: 110.0, 21: 20.0, 22: 40.0, 23: 140.0, 24: 150.0, 25: 60.0, 26: 140.0, 27: 110.0, 28: 110.0, 29: 62.0, 30: 60.0, 31: 140.0, 32: 60.0, 33: 160.0, 34: 161.0, 35: 32.0, 36: 32.0, 37: 162.0, 38: 160.0, 39: 70.0, 40: 110.0, 41: 121.0, 42: 140.0, 43: 60.0, 44: 60.0, 45: 161.0, 46: 160.0, 47: 160.0}\n"
     ]
    }
   ],
   "source": [
    "                \"\"\"Data loading\"\"\"\n",
    "import requests\n",
    "import shutil\n",
    "\n",
    "data_value_dict = {}\n",
    "data_label_dict = {}\n",
    "max_length = 0\n",
    "for i in range(1, num_data+1):\n",
    "  df_temp = pd.read_csv(r'C:\\Users\\wangd\\Desktop\\Classification/data/csv/'+str(i)+'.csv')\n",
    "  \n",
    "  \n",
    "  im_array = np.load(r'C:\\Users\\wangd\\Desktop\\Classification/data/image_train/'+str(i)+'.npy', allow_pickle=True)\n",
    "  data_value_dict[i] = im_array\n",
    "  data_label_dict[i] = df_temp['Label'][0]\n",
    "print(data_label_dict)"
   ]
  },
  {
   "cell_type": "code",
   "execution_count": 8,
   "metadata": {
    "colab": {},
    "colab_type": "code",
    "id": "AQsOxuDCIGpQ"
   },
   "outputs": [],
   "source": [
    "                \"\"\"Data preprocessing\"\"\"\n",
    "# Map raw labels to each category\n",
    "def is_up(label):\n",
    "    return (label / 100 >= 1)\n",
    "def is_0_2F(label):\n",
    "    if (is_up(label)) :\n",
    "      label = label - 100\n",
    "    return (label / 10 < 3)\n",
    "def is_3_4F(label):\n",
    "    if (is_up(label)) :\n",
    "      label = label - 100\n",
    "    return (3 <= label / 10 < 5)\n",
    "\n",
    "for i in range(1, num_data+1):\n",
    "  label = data_label_dict[i]\n",
    "  if is_up(label) :\n",
    "    if is_0_2F(label) : data_label_dict[i] = 0\n",
    "    elif is_3_4F(label) : data_label_dict[i] = 1\n",
    "    else : data_label_dict[i] = 2\n",
    "  else :\n",
    "    if is_0_2F(label) : data_label_dict[i] = 3\n",
    "    elif is_3_4F(label) : data_label_dict[i] = 4\n",
    "    else : data_label_dict[i] = 5"
   ]
  },
  {
   "cell_type": "code",
   "execution_count": 9,
   "metadata": {
    "colab": {
     "base_uri": "https://localhost:8080/",
     "height": 69
    },
    "colab_type": "code",
    "id": "g7koKkSL-G3S",
    "outputId": "5c4034bd-e1c0-4b2f-871f-221e275b8c3e"
   },
   "outputs": [
    {
     "name": "stdout",
     "output_type": "stream",
     "text": [
      "(45, 400, 600) (45,) (1, 400, 600) (1,)\n",
      "X_train_reshaped shape: (45, 400, 600, 1)\n",
      "X_test_reshaped shape: (1, 400, 600, 1)\n"
     ]
    }
   ],
   "source": [
    "# split into test and training set and convert data into array\n",
    "test_ix = randint(1,num_data + 1)\n",
    "X_test, y_test, X_train, y_train = list(), list(), list(), list()\n",
    "for i in range(1, num_data) :\n",
    "  if(i != test_ix):\n",
    "    X_train.append(data_value_dict[i])\n",
    "    y_train.append(data_label_dict[i])\n",
    "  else :\n",
    "    X_test.append(data_value_dict[i])\n",
    "    y_test.append(data_label_dict[i])\n",
    "X_train = array(X_train)\n",
    "y_train = array(y_train)\n",
    "X_test = array(X_test)\n",
    "y_test = array(y_test)\n",
    "print(X_train.shape, y_train.shape, X_test.shape, y_test.shape)\n",
    "X_train_reshaped = X_train.reshape(X_train.shape[0], X_train.shape[1], X_train.shape[2], num_features)\n",
    "X_test_reshaped = X_test.reshape(X_test.shape[0], X_test.shape[1], X_test.shape[2], num_features)\n",
    "\n",
    "# reformat array\n",
    "X_train_reshaped = X_train_reshaped.astype('float32')\n",
    "X_test_reshaped = X_test_reshaped.astype('float32')\n",
    "X_train_reshaped /= 255\n",
    "X_test_reshaped /= 255\n",
    "print('X_train_reshaped shape:', X_train_reshaped.shape) #X_train shape: (60000, 28, 28, 1)\n",
    "print('X_test_reshaped shape:', X_test_reshaped.shape) #X_test shape: (60000, 28, 28, 1)\n",
    "\n",
    "# convert class vectors to binary class matrices\n",
    "y_train = keras.utils.to_categorical(y_train, num_category)\n",
    "y_test = keras.utils.to_categorical(y_test, num_category)"
   ]
  },
  {
   "cell_type": "code",
   "execution_count": 8,
   "metadata": {
    "colab": {
     "base_uri": "https://localhost:8080/",
     "height": 644
    },
    "colab_type": "code",
    "id": "EhVrY575zDxq",
    "outputId": "90c63879-39aa-404e-979f-6c69fd7c5497"
   },
   "outputs": [
    {
     "name": "stdout",
     "output_type": "stream",
     "text": [
      "WARNING:tensorflow:From C:\\Users\\wangd\\Anaconda3\\lib\\site-packages\\keras\\backend\\tensorflow_backend.py:4070: The name tf.nn.max_pool is deprecated. Please use tf.nn.max_pool2d instead.\n",
      "\n",
      "Model: \"sequential_1\"\n",
      "_________________________________________________________________\n",
      "Layer (type)                 Output Shape              Param #   \n",
      "=================================================================\n",
      "conv2d_1 (Conv2D)            (None, 398, 598, 24)      240       \n",
      "_________________________________________________________________\n",
      "conv2d_2 (Conv2D)            (None, 396, 596, 24)      5208      \n",
      "_________________________________________________________________\n",
      "max_pooling2d_1 (MaxPooling2 (None, 198, 298, 24)      0         \n",
      "_________________________________________________________________\n",
      "flatten_1 (Flatten)          (None, 1416096)           0         \n",
      "_________________________________________________________________\n",
      "dense_1 (Dense)              (None, 30)                42482910  \n",
      "_________________________________________________________________\n",
      "dropout_1 (Dropout)          (None, 30)                0         \n",
      "_________________________________________________________________\n",
      "dense_2 (Dense)              (None, 6)                 186       \n",
      "=================================================================\n",
      "Total params: 42,488,544\n",
      "Trainable params: 42,488,544\n",
      "Non-trainable params: 0\n",
      "_________________________________________________________________\n"
     ]
    }
   ],
   "source": [
    "                  '''Model building'''\n",
    "model = Sequential()\n",
    "model.add(Conv2D(24, kernel_size=(3, 3),\n",
    "                 activation='relu',\n",
    "                 input_shape=(X_train.shape[1], X_train.shape[2], num_features)))\n",
    "model.add(Conv2D(24, (3, 3), activation='relu'))\n",
    "model.add(MaxPooling2D(pool_size=(2, 2)))\n",
    "# model.add(Dropout(0.25))\n",
    "model.add(Flatten())\n",
    "model.add(Dense(30, activation='relu'))\n",
    "model.add(Dropout(0.5))\n",
    "model.add(Dense(num_category, activation='softmax'))\n",
    "model.summary()"
   ]
  },
  {
   "cell_type": "code",
   "execution_count": 9,
   "metadata": {
    "colab": {
     "base_uri": "https://localhost:8080/",
     "height": 107
    },
    "colab_type": "code",
    "id": "K76R-2HPajxI",
    "outputId": "cda84148-db63-416c-b4f8-26d9fe75a18c"
   },
   "outputs": [],
   "source": [
    "                 '''configure model'''\n",
    "model.compile(optimizer='adam', \n",
    "              loss=keras.losses.categorical_crossentropy,\n",
    "              metrics=[\"accuracy\"])\n",
    "\n",
    "# sgd = keras.optimizers.SGD(lr=learning_rate, \n",
    "#                          decay=1e-6, \n",
    "#                          momentum=0.9, \n",
    "#                          nesterov=True)\n",
    "# model.compile(optimizer='sgd', \n",
    "#               loss='mean_absolute_error', \n",
    "#               metrics=['accuracy'])"
   ]
  },
  {
   "cell_type": "code",
   "execution_count": 10,
   "metadata": {
    "colab": {
     "base_uri": "https://localhost:8080/",
     "height": 1000
    },
    "colab_type": "code",
    "id": "MO8EMSBaMZ8K",
    "outputId": "62a44584-3041-461b-ec5a-6dbd0242a1f5"
   },
   "outputs": [
    {
     "name": "stdout",
     "output_type": "stream",
     "text": [
      "WARNING:tensorflow:From C:\\Users\\wangd\\Anaconda3\\lib\\site-packages\\keras\\backend\\tensorflow_backend.py:422: The name tf.global_variables is deprecated. Please use tf.compat.v1.global_variables instead.\n",
      "\n",
      "Train on 45 samples, validate on 1 samples\n",
      "Epoch 1/30\n",
      "45/45 [==============================] - 6s 136ms/step - loss: 1.8456 - accuracy: 0.1556 - val_loss: 8.2254e-06 - val_accuracy: 1.0000\n",
      "Epoch 2/30\n",
      "45/45 [==============================] - 6s 138ms/step - loss: 53.0901 - accuracy: 0.2667 - val_loss: 13.9862 - val_accuracy: 0.0000e+00\n",
      "Epoch 3/30\n",
      "45/45 [==============================] - 7s 165ms/step - loss: 30.3077 - accuracy: 0.2667 - val_loss: 13.2204 - val_accuracy: 0.0000e+00\n",
      "Epoch 4/30\n",
      "45/45 [==============================] - 7s 164ms/step - loss: 14.0630 - accuracy: 0.1333 - val_loss: 5.7388 - val_accuracy: 0.0000e+00\n",
      "Epoch 5/30\n",
      "45/45 [==============================] - 7s 166ms/step - loss: 5.8496 - accuracy: 0.2000 - val_loss: 2.0669 - val_accuracy: 0.0000e+00\n",
      "Epoch 6/30\n",
      "45/45 [==============================] - 7s 166ms/step - loss: 2.0650 - accuracy: 0.2889 - val_loss: 1.7898 - val_accuracy: 0.0000e+00\n",
      "Epoch 7/30\n",
      "45/45 [==============================] - 7s 164ms/step - loss: 1.7905 - accuracy: 0.2889 - val_loss: 1.7891 - val_accuracy: 0.0000e+00\n",
      "Epoch 8/30\n",
      "45/45 [==============================] - 7s 164ms/step - loss: 1.7901 - accuracy: 0.2889 - val_loss: 1.2720 - val_accuracy: 0.0000e+00\n",
      "Epoch 9/30\n",
      "45/45 [==============================] - 7s 160ms/step - loss: 4.7683 - accuracy: 0.2222 - val_loss: 2.5766 - val_accuracy: 0.0000e+00\n",
      "Epoch 10/30\n",
      "45/45 [==============================] - 7s 163ms/step - loss: 2.6386 - accuracy: 0.2222 - val_loss: 1.7870 - val_accuracy: 0.0000e+00\n",
      "Epoch 11/30\n",
      "45/45 [==============================] - 7s 161ms/step - loss: 1.7896 - accuracy: 0.2889 - val_loss: 1.7862 - val_accuracy: 0.0000e+00\n",
      "Epoch 12/30\n",
      "45/45 [==============================] - 8s 167ms/step - loss: 1.7894 - accuracy: 0.2889 - val_loss: 1.7855 - val_accuracy: 0.0000e+00\n",
      "Epoch 13/30\n",
      "45/45 [==============================] - 7s 160ms/step - loss: 1.7891 - accuracy: 0.2889 - val_loss: 1.7847 - val_accuracy: 0.0000e+00\n",
      "Epoch 14/30\n",
      "45/45 [==============================] - 7s 162ms/step - loss: 1.7888 - accuracy: 0.2889 - val_loss: 1.7840 - val_accuracy: 0.0000e+00\n",
      "Epoch 15/30\n",
      "45/45 [==============================] - 7s 158ms/step - loss: 1.7883 - accuracy: 0.2889 - val_loss: 2.8343 - val_accuracy: 0.0000e+00\n",
      "Epoch 16/30\n",
      "45/45 [==============================] - 7s 161ms/step - loss: 2.6359 - accuracy: 0.1778 - val_loss: 2.2252 - val_accuracy: 0.0000e+00\n",
      "Epoch 17/30\n",
      "45/45 [==============================] - 7s 159ms/step - loss: 2.1826 - accuracy: 0.1556 - val_loss: 2.1886 - val_accuracy: 0.0000e+00\n",
      "Epoch 18/30\n",
      "45/45 [==============================] - 7s 161ms/step - loss: 2.0611 - accuracy: 0.1111 - val_loss: 1.7808 - val_accuracy: 1.0000\n",
      "Epoch 19/30\n",
      "45/45 [==============================] - 7s 161ms/step - loss: 1.7846 - accuracy: 0.2444 - val_loss: 1.8761 - val_accuracy: 0.0000e+00\n",
      "Epoch 20/30\n",
      "45/45 [==============================] - 7s 163ms/step - loss: 1.8059 - accuracy: 0.2667 - val_loss: 1.7792 - val_accuracy: 1.0000\n",
      "Epoch 21/30\n",
      "45/45 [==============================] - 7s 164ms/step - loss: 1.7634 - accuracy: 0.3556 - val_loss: 1.7784 - val_accuracy: 1.0000\n",
      "Epoch 22/30\n",
      "45/45 [==============================] - 7s 164ms/step - loss: 1.7198 - accuracy: 0.3111 - val_loss: 1.7776 - val_accuracy: 1.0000\n",
      "Epoch 23/30\n",
      "45/45 [==============================] - 7s 158ms/step - loss: 1.6791 - accuracy: 0.3556 - val_loss: 1.7768 - val_accuracy: 1.0000\n",
      "Epoch 24/30\n",
      "45/45 [==============================] - 7s 158ms/step - loss: 1.5847 - accuracy: 0.3556 - val_loss: 1.7602 - val_accuracy: 0.0000e+00\n",
      "Epoch 25/30\n",
      "45/45 [==============================] - 7s 161ms/step - loss: 1.6156 - accuracy: 0.3111 - val_loss: 1.7414 - val_accuracy: 0.0000e+00\n",
      "Epoch 26/30\n",
      "45/45 [==============================] - 7s 156ms/step - loss: 1.5518 - accuracy: 0.3556 - val_loss: 1.1640 - val_accuracy: 1.0000\n",
      "Epoch 27/30\n",
      "45/45 [==============================] - 7s 156ms/step - loss: 1.2549 - accuracy: 0.4667 - val_loss: 0.4499 - val_accuracy: 1.0000\n",
      "Epoch 28/30\n",
      "45/45 [==============================] - 7s 159ms/step - loss: 1.4098 - accuracy: 0.4444 - val_loss: 1.2832 - val_accuracy: 1.0000\n",
      "Epoch 29/30\n",
      "45/45 [==============================] - 7s 158ms/step - loss: 1.2019 - accuracy: 0.6889 - val_loss: 1.0105 - val_accuracy: 1.0000\n",
      "Epoch 30/30\n",
      "45/45 [==============================] - 7s 157ms/step - loss: 1.0877 - accuracy: 0.7556 - val_loss: 0.4432 - val_accuracy: 1.0000\n"
     ]
    }
   ],
   "source": [
    "                    '''Training'''\n",
    "model_log = model.fit(X_train_reshaped, y_train,\n",
    "                      batch_size=X_train_reshaped.shape[0],\n",
    "                      epochs=num_epoch,\n",
    "                      verbose=1,\n",
    "                      validation_data=(X_test_reshaped, y_test))"
   ]
  },
  {
   "cell_type": "code",
   "execution_count": 11,
   "metadata": {
    "colab": {
     "base_uri": "https://localhost:8080/",
     "height": 573
    },
    "colab_type": "code",
    "id": "3EgrD-8Y0D2b",
    "outputId": "e10cd4fb-9fff-4544-953f-30ddce348cfd"
   },
   "outputs": [
    {
     "data": {
      "image/png": "[encoded data removed]",
      "text/plain": [
       "<Figure size 432x288 with 1 Axes>"
      ]
     },
     "metadata": {
      "needs_background": "light"
     },
     "output_type": "display_data"
    },
    {
     "data": {
      "image/png": "[encoded data removed]",
      "text/plain": [
       "<Figure size 432x288 with 1 Axes>"
      ]
     },
     "metadata": {
      "needs_background": "light"
     },
     "output_type": "display_data"
    }
   ],
   "source": [
    "# Plot training & validation accuracy values\n",
    "plt.plot(model_log.history['accuracy'])\n",
    "plt.plot(model_log.history['val_accuracy'])\n",
    "plt.title('Model accuracy')\n",
    "plt.ylabel('Accuracy')\n",
    "plt.xlabel('Epoch')\n",
    "plt.legend(['Train', 'Test'], loc='upper left')\n",
    "plt.show()\n",
    "\n",
    "# Plot training & validation loss values\n",
    "plt.plot(model_log.history['loss'])\n",
    "plt.plot(model_log.history['val_loss'])\n",
    "plt.title('Model loss')\n",
    "plt.ylabel('Loss')\n",
    "plt.xlabel('Epoch')\n",
    "plt.legend(['Train', 'Test'], loc='upper left')\n",
    "plt.show()"
   ]
  },
  {
   "cell_type": "code",
   "execution_count": 12,
   "metadata": {
    "colab": {},
    "colab_type": "code",
    "id": "mK0_Cq-Oh0tC"
   },
   "outputs": [],
   "source": [
    "               \"\"\"Save Weights (DeepAnT)\"\"\"\n",
    "# save it to disk so we can load it back up anytime\n",
    "model.save_weights('elevator_2D_CNN_1.h5')  "
   ]
  },
  {
   "cell_type": "code",
   "execution_count": 21,
   "metadata": {
    "colab": {
     "base_uri": "https://localhost:8080/",
     "height": 69
    },
    "colab_type": "code",
    "id": "jpzknk4th9bU",
    "outputId": "484dfea9-c240-4ad0-fda7-f2eddbc66ef8"
   },
   "outputs": [
    {
     "name": "stdout",
     "output_type": "stream",
     "text": [
      "1/1 [==============================] - 0s 260ms/step\n",
      "[[0. 0. 0. 0. 0. 1.]]\n",
      "6\n",
      "[0. 0. 0. 0. 0. 1.]\n"
     ]
    },
    {
     "data": {
      "image/png": "[encoded data removed]",
      "text/plain": [
       "<Figure size 432x288 with 1 Axes>"
      ]
     },
     "metadata": {
      "needs_background": "light"
     },
     "output_type": "display_data"
    }
   ],
   "source": [
    "            \"\"\"Classifying test sequence\"\"\" \n",
    "# Build model \n",
    "model = Sequential()\n",
    "model.add(Conv2D(24, kernel_size=(3, 3),\n",
    "                 activation='relu',\n",
    "                 input_shape=(X_train.shape[1], X_train.shape[2], num_features)))\n",
    "model.add(Conv2D(24, (3, 3), activation='relu'))\n",
    "model.add(MaxPooling2D(pool_size=(2, 2)))\n",
    "# model.add(Dropout(0.25))\n",
    "model.add(Flatten())\n",
    "model.add(Dense(30, activation='relu'))\n",
    "model.add(Dropout(0.5))\n",
    "model.add(Dense(num_category, activation='softmax'))\n",
    "\n",
    "# Load the model's saved weights.\n",
    "model.load_weights('elevator_2D_CNN_1.h5')\n",
    "\n",
    "# Predict the next time stampes of the sampled sequence\n",
    "ix = 10\n",
    "sample = array(data_value_dict[ix])\n",
    "plt.imshow(sample, cmap='gray', vmin=0, vmax=255)\n",
    "plt.show\n",
    "sample = sample.reshape(1, sample.shape[0], sample.shape[1], num_features)\n",
    "\n",
    "yhat = model.predict(sample, verbose=1)\n",
    "\n",
    "# Print our model's predictions.\n",
    "print(yhat)\n",
    "print(num_category)\n",
    "# Check our predictions against the ground truths.\n",
    "print(keras.utils.to_categorical(data_label_dict[ix], num_category)) # [7, 2, 1, 0, 4]"
   ]
  },
  {
   "cell_type": "code",
   "execution_count": null,
   "metadata": {},
   "outputs": [],
   "source": []
  }
 ],
 "metadata": {
  "accelerator": "TPU",
  "colab": {
   "include_colab_link": true,
   "name": "Untitled0.ipynb",
   "provenance": [],
   "version": "0.3.2"
  },
  "kernelspec": {
   "display_name": "Python 3",
   "language": "python",
   "name": "python3"
  },
  "language_info": {
   "codemirror_mode": {
    "name": "ipython",
    "version": 3
   },
   "file_extension": ".py",
   "mimetype": "text/x-python",
   "name": "python",
   "nbconvert_exporter": "python",
   "pygments_lexer": "ipython3",
   "version": "3.6.8"
  }
 },
 "nbformat": 4,
 "nbformat_minor": 1
}
