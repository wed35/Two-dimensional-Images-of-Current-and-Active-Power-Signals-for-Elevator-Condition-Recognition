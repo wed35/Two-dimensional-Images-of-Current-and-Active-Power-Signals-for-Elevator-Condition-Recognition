{
 "cells": [
  {
   "cell_type": "code",
   "execution_count": 1,
   "metadata": {},
   "outputs": [
    {
     "ename": "ModuleNotFoundError",
     "evalue": "No module named 'xlrd'",
     "output_type": "error",
     "traceback": [
      "\u001b[1;31m---------------------------------------------------------------------------\u001b[0m",
      "\u001b[1;31mModuleNotFoundError\u001b[0m                       Traceback (most recent call last)",
      "\u001b[1;32m<ipython-input-1-9aa80e27373a>\u001b[0m in \u001b[0;36m<module>\u001b[1;34m\u001b[0m\n\u001b[0;32m      1\u001b[0m \u001b[1;31m# coding=utf-8\u001b[0m\u001b[1;33m\u001b[0m\u001b[1;33m\u001b[0m\u001b[1;33m\u001b[0m\u001b[0m\n\u001b[0;32m      2\u001b[0m \u001b[1;33m\u001b[0m\u001b[0m\n\u001b[1;32m----> 3\u001b[1;33m \u001b[1;32mimport\u001b[0m \u001b[0mxlrd\u001b[0m\u001b[1;33m\u001b[0m\u001b[1;33m\u001b[0m\u001b[0m\n\u001b[0m\u001b[0;32m      4\u001b[0m \u001b[1;32mimport\u001b[0m \u001b[0mpandas\u001b[0m \u001b[1;32mas\u001b[0m \u001b[0mpd\u001b[0m\u001b[1;33m\u001b[0m\u001b[1;33m\u001b[0m\u001b[0m\n\u001b[0;32m      5\u001b[0m \u001b[1;33m\u001b[0m\u001b[0m\n",
      "\u001b[1;31mModuleNotFoundError\u001b[0m: No module named 'xlrd'"
     ]
    }
   ],
   "source": [
    "# coding=utf-8\n",
    "\n",
    "import xlrd\n",
    "import pandas as pd\n",
    "\n",
    "import matplotlib.pyplot as plt\n",
    "import matplotlib.mlab as mlab\n",
    "import matplotlib.dates\n",
    "import numpy as np\n",
    "from scipy.interpolate import spline\n",
    "from pandas.plotting import register_matplotlib_converters\n",
    "from PIL import Image\n",
    "\n",
    "\n",
    "file_dir = r\"C:\\Users\\A\\Desktop\\Classification\\my_data\\png/\"\n",
    "\n",
    "#读取excel文件\n",
    "Excelfile=xlrd.open_workbook(r'C:\\Users\\A\\Desktop\\Classification\\test.xlsx')\n",
    "\n",
    "#获取读入文件的sheet\n",
    "#索引从0开始\n",
    "#也可以用名字的方式读取，但是一定要注意大小写\n",
    "#sheet = Excelfile.sheet_by_name('Sheet1')\n",
    "sheet = Excelfile.sheet_by_index(0)\n",
    "\n",
    "\n",
    "row_count=sheet.nrows#获取行数，列数ncols\n",
    "#print(row_count)\n",
    "\n",
    "#设置画图x时间轴，5.5秒为时间间隔\n",
    "x=[0,5.5,11,16.5,22,27.5,33,38.5]\n",
    "#print(x)\n",
    "\n",
    "xnew = np.linspace(0,38.5,300)\n",
    "\n",
    "\n",
    "#获取行内容，索引从0开始\n",
    "for i in range(0,row_count):\n",
    "    rows=sheet.row_values(i)\n",
    "    #print(rows)\n",
    "    \n",
    "    rows_smooth = spline(x,rows,xnew)\n",
    "    \n",
    "    \n",
    "    fig=plt.figure()\n",
    "    plt.plot(xnew, rows_smooth, linestyle='solid', marker='None')\n",
    "    \n",
    "    #不带平滑的图\n",
    "    #plt.plot(x, rows, linestyle='solid', marker='None')\n",
    "    plt.axis('off')\n",
    "    plt.figure(figsize=(100,10))\n",
    "    \n",
    "    fig.savefig(file_dir  + str(i) + '.png', dpi=100)\n",
    "    plt.show()\n",
    "\n",
    "    \n",
    "    \n"
   ]
  },
  {
   "cell_type": "code",
   "execution_count": 2,
   "metadata": {},
   "outputs": [
    {
     "data": {
      "text/plain": [
       "<function matplotlib.pyplot.show(*args, **kw)>"
      ]
     },
     "execution_count": 2,
     "metadata": {},
     "output_type": "execute_result"
    },
    {
     "data": {
      "image/png": "[encoded data removed]",
      "text/plain": [
       "<Figure size 432x288 with 1 Axes>"
      ]
     },
     "metadata": {
      "needs_background": "light"
     },
     "output_type": "display_data"
    }
   ],
   "source": [
    "'''convert png to grayscale np arrays'''\n",
    "\n",
    "\n",
    "'''Input Parameters'''\n",
    "\n",
    "file_dir = r\"C:\\Users\\A\\Desktop\\Classification\\my_data\\png/\"\n",
    "for j in range (0, row_count):\n",
    "    filename = str(j)\n",
    "    img = Image.open( file_dir+filename + '.png' ).convert('L')\n",
    "    data = np.array(img, dtype='uint8' )\n",
    "    np.save( file_dir+filename + '.npy', data)\n",
    "\n",
    "# visually testing our output\n",
    "img_array = np.load(file_dir+'1.npy')\n",
    "plt.imshow(img_array, cmap='gray', vmin=0, vmax=255)\n",
    "plt.show"
   ]
  },
  {
   "cell_type": "code",
   "execution_count": null,
   "metadata": {},
   "outputs": [],
   "source": []
  }
 ],
 "metadata": {
  "kernelspec": {
   "display_name": "Python 3",
   "language": "python",
   "name": "python3"
  },
  "language_info": {
   "codemirror_mode": {
    "name": "ipython",
    "version": 3
   },
   "file_extension": ".py",
   "mimetype": "text/x-python",
   "name": "python",
   "nbconvert_exporter": "python",
   "pygments_lexer": "ipython3",
   "version": "3.7.0"
  }
 },
 "nbformat": 4,
 "nbformat_minor": 2
}
